{
 "cells": [
  {
   "cell_type": "markdown",
   "id": "cf08c14c-befb-4ff0-b262-445503fc93e9",
   "metadata": {},
   "source": [
    "# PROYECTO DE ANÁLISIS DE MARKOWITZ"
   ]
  },
  {
   "cell_type": "markdown",
   "id": "f69bf79b-1d58-4a2f-b135-2fd341a70027",
   "metadata": {},
   "source": [
    "## LIBRERÍAS"
   ]
  },
  {
   "cell_type": "markdown",
   "id": "e375e1ab-4384-4a57-a0fd-5dc9b3d82db0",
   "metadata": {},
   "source": [
    "Se empieza importando las librerías a utilizar en el trabajo. Recordar que lo más probable alguna, varias o incluso todas ellas no\n",
    "se encuentren previamente instaladas, por lo que se debería de comenzar con ello."
   ]
  },
  {
   "cell_type": "code",
   "execution_count": 1,
   "id": "389dd052-eb9b-4544-9355-36819745884c",
   "metadata": {},
   "outputs": [],
   "source": [
    "import json\n",
    "import pandas as pd \n",
    "import numpy as np\n",
    "import yfinance as yf \n",
    "import itertools\n",
    "import matplotlib.pyplot as plt\n",
    "import scipy.optimize as sco\n",
    "import pathlib\n",
    "import warnings\n",
    "\n",
    "warnings.filterwarnings(\"ignore\") "
   ]
  },
  {
   "cell_type": "markdown",
   "id": "37d32246-a3ef-4710-91a3-1431c241d19c",
   "metadata": {},
   "source": [
    "## EXPLICACIÓN TEÓRICA COMBINATORIAS"
   ]
  },
  {
   "cell_type": "markdown",
   "id": "1e175eae-579e-4ccd-8b94-2ab8e9cfb959",
   "metadata": {},
   "source": [
    "La base para poder identificar cuáles son todos los portafolios posibles es la combinación de los diferentes tickers, sin que estos se repitan. Para\n",
    "cumplir con este objetivo, se utilizará la función combinations de la librería itertools para saber cuáles son estas combinaciones, y la cantidad de ellas."
   ]
  },
  {
   "cell_type": "markdown",
   "id": "caf21176-c953-430b-88d5-71ec044bd05d",
   "metadata": {},
   "source": [
    "<img src=\"Imagenes/Imagen_combinatoria.png\">"
   ]
  },
  {
   "cell_type": "markdown",
   "id": "f1cc8062-4701-4339-8a24-bc4dce30c2d3",
   "metadata": {},
   "source": [
    "Para comenzar y entender el impacto de las combinatorias en la optimización de todos los portafolios, se debe comprender en primera instancia la fórmula  para el cálculo de la cantidad de combinatorias, la cuál se encuentra arriba de esta líneas. \"n\" simboliza la cantidad de elementos que se deben de combinar (en el caso del trabajo, la cantidad de tickers disponibles para la conformación de portafolios), y \"k\" la cantidad de elementos que debe de poseer cada combinación (en cuanto a portafolios, el número de acciones dentro de cada uno de ellos). Para comprender el impacto de la variabilidad de estos parámetros sobre la cantidad de combinaciones, se hicieron unas pequeñas simulaciones."
   ]
  },
  {
   "cell_type": "code",
   "execution_count": 354,
   "id": "ae8a3d85-defa-4c5a-8c69-ef83b9cd8deb",
   "metadata": {},
   "outputs": [
    {
     "data": {
      "text/plain": [
       "[7, 21, 35, 35, 21, 7, 1]"
      ]
     },
     "execution_count": 354,
     "metadata": {},
     "output_type": "execute_result"
    }
   ],
   "source": [
    "prueba = [i for i in range(7)]\n",
    "combina = []\n",
    "for i in range(1, 8):\n",
    "    numero = list(itertools.combinations(prueba, i))\n",
    "    combina.append(len(numero))\n",
    "combina"
   ]
  },
  {
   "cell_type": "code",
   "execution_count": 355,
   "id": "0b30a524-dc47-4b93-9986-5f1ad195c5b1",
   "metadata": {},
   "outputs": [
    {
     "data": {
      "text/plain": [
       "127"
      ]
     },
     "execution_count": 355,
     "metadata": {},
     "output_type": "execute_result"
    }
   ],
   "source": [
    "sum(combina)"
   ]
  },
  {
   "cell_type": "markdown",
   "id": "c8927ef2-6e39-466c-88f8-52d306411e69",
   "metadata": {},
   "source": [
    "Como se observa, la cantidad de combinaciones cuando n y k son reducidos, son muy pocas. Aún así, se puede apreciar la ditribución cuadrática inversa que sigue la cantidad de combinaciones a medida que aumenta el valor de k, dado un valor fijo de n."
   ]
  },
  {
   "cell_type": "code",
   "execution_count": 352,
   "id": "450803f6-3154-4f0f-a946-7efcf25bcbaa",
   "metadata": {},
   "outputs": [
    {
     "name": "stdout",
     "output_type": "stream",
     "text": [
      "CPU times: total: 156 ms\n",
      "Wall time: 185 ms\n"
     ]
    },
    {
     "data": {
      "text/plain": [
       "[1,\n",
       " 20,\n",
       " 190,\n",
       " 1140,\n",
       " 4845,\n",
       " 15504,\n",
       " 38760,\n",
       " 77520,\n",
       " 125970,\n",
       " 167960,\n",
       " 184756,\n",
       " 167960,\n",
       " 125970,\n",
       " 77520,\n",
       " 38760]"
      ]
     },
     "execution_count": 352,
     "metadata": {},
     "output_type": "execute_result"
    }
   ],
   "source": [
    "%%time\n",
    "\n",
    "prueba_2 = [i for i in range(20)]\n",
    "combina_2 = []\n",
    "for i in range(0, 15):\n",
    "    numero_2 = list(itertools.combinations(prueba_2, i))\n",
    "    combina_2.append(len(numero_2))\n",
    "combina_2"
   ]
  },
  {
   "cell_type": "code",
   "execution_count": 353,
   "id": "45e1594a-eba3-4ac7-a5a1-fbc5d4b1f24f",
   "metadata": {},
   "outputs": [
    {
     "data": {
      "text/plain": [
       "1026876"
      ]
     },
     "execution_count": 353,
     "metadata": {},
     "output_type": "execute_result"
    }
   ],
   "source": [
    "sum(combina_2)"
   ]
  },
  {
   "cell_type": "markdown",
   "id": "26d2240a-072b-4d5a-bace-1825c163bc62",
   "metadata": {},
   "source": [
    "Ahora bien, cuando los valores tanto de n como de k se incrementan, la cantidad de combinaciones crece exponencialmente, pero siempre siguiendo el formato de función cuadrática inversa que se describió en el caso anterior. Por tanto, si en lugar de utilizar el Dow Jones que está compuesto por 30 acciones, se utilizaba el S&P que está compuesto por 500, el número de combinaciones sería astronómico (sin exagerar), y el programa no acabaría nunca, impidiendo así obtener resultados para extraer conclusiones."
   ]
  },
  {
   "cell_type": "markdown",
   "id": "4f34fb65-3e5f-4c23-92d3-7f97782a4442",
   "metadata": {},
   "source": [
    "## DATOS"
   ]
  },
  {
   "cell_type": "markdown",
   "id": "6c0298a7-b8de-43bd-a1c1-094701e1e247",
   "metadata": {},
   "source": [
    "### Obtención de Tickers"
   ]
  },
  {
   "cell_type": "markdown",
   "id": "2abb43b7-6bcf-4fa2-89c8-3250a9117b23",
   "metadata": {},
   "source": [
    "El código de esta sección permite obtener un diccionario con los diferentes años como claves, y como valores una lista con los tickers que conformaron al Dow Jones en ese año correspondiente"
   ]
  },
  {
   "cell_type": "code",
   "execution_count": 37,
   "id": "fec4ea16-efd3-4c7f-adbf-cec13b136c85",
   "metadata": {},
   "outputs": [],
   "source": [
    "URL = 'https://en.wikipedia.org/wiki/Dow_Jones_Industrial_Average'\n",
    "tickers = pd.read_html(URL)[1]['Symbol'].tolist()"
   ]
  },
  {
   "cell_type": "code",
   "execution_count": 38,
   "id": "5aba949d-7678-413e-9038-20e421e3307a",
   "metadata": {},
   "outputs": [],
   "source": [
    "i = 2024\n",
    "listado_empresas = {}\n",
    "while i >= 1970:\n",
    "    tickers_total = tickers.copy()\n",
    "\n",
    "    if i <= 2023: \n",
    "        nuevos_tickets = ['AMZN']\n",
    "        viejos_tickets = ['WBA']\n",
    "        tickers_total = [viejos_tickets[nuevos_tickets.index(ticker)] if ticker in nuevos_tickets else ticker for ticker in tickers_total]\n",
    "    if i <= 2020: \n",
    "        nuevos_tickets = ['AMGN' , 'HON' , 'CRM']\n",
    "        viejos_tickets = ['UTC' , 'XOM' , 'PFE']\n",
    "        tickers_total = [viejos_tickets[nuevos_tickets.index(ticker)] if ticker in nuevos_tickets else ticker for ticker in tickers_total]\n",
    "    if i <= 2019: \n",
    "        nuevos_tickets = ['DOW']\n",
    "        viejos_tickets = ['DD']\n",
    "        tickers_total = [viejos_tickets[nuevos_tickets.index(ticker)] if ticker in nuevos_tickets else ticker for ticker in tickers_total]\n",
    "    if i <= 2018: \n",
    "        nuevos_tickets = ['WBA']\n",
    "        viejos_tickets = ['GE']\n",
    "        tickers_total = [viejos_tickets[nuevos_tickets.index(ticker)] if ticker in nuevos_tickets else ticker for ticker in tickers_total]\n",
    "    if i <= 2015:\n",
    "        nuevos_tickets = ['AAPL']\n",
    "        viejos_tickets = ['T']\n",
    "        tickers_total = [viejos_tickets[nuevos_tickets.index(ticker)] if ticker in nuevos_tickets else ticker for ticker in tickers_total]\n",
    "    if i <= 2013: \n",
    "        nuevos_tickets = ['GS', 'NKE' , 'V']\n",
    "        viejos_tickets = ['BAC' , 'AA' , 'HPQ']\n",
    "        tickers_total = [viejos_tickets[nuevos_tickets.index(ticker)] if ticker in nuevos_tickets else ticker for ticker in tickers_total]\n",
    "    if i <= 2012:\n",
    "        nuevos_tickets = ['UNH']\n",
    "        viejos_tickets = ['KFT']\n",
    "        tickers_total = [viejos_tickets[nuevos_tickets.index(ticker)] if ticker in nuevos_tickets else ticker for ticker in tickers_total]\n",
    "    if i <= 2009: \n",
    "        nuevos_tickets = ['TRV' , 'CSCO']\n",
    "        viejos_tickets = ['C' , 'MTLQQ']\n",
    "        tickers_total = [viejos_tickets[nuevos_tickets.index(ticker)] if ticker in nuevos_tickets else ticker for ticker in tickers_total]\n",
    "    if i <= 2008: \n",
    "        nuevos_tickets = ['CVX' , 'BAC' , 'KFT']\n",
    "        viejos_tickets = ['MO' , 'HON' , 'AIG']\n",
    "        tickers_total = [viejos_tickets[nuevos_tickets.index(ticker)] if ticker in nuevos_tickets else ticker for ticker in tickers_total]\n",
    "    if i <= 2004: \n",
    "        nuevos_tickets = ['AIG' , 'PFE' , 'VZ']\n",
    "        viejos_tickets = ['T', 'KODK' , 'IP']\n",
    "        tickers_total = [viejos_tickets[nuevos_tickets.index(ticker)] if ticker in nuevos_tickets else ticker for ticker in tickers_total]\n",
    "    if i <= 1999: \n",
    "        nuevos_tickets = ['MSFT' , 'INTC' , 'HD' , 'T']\n",
    "        viejos_tickets = ['CVX' , 'GT' , 'UK' , 'SHLDQ']\n",
    "        tickers_total = [viejos_tickets[nuevos_tickets.index(ticker)] if ticker in nuevos_tickets else ticker for ticker in tickers_total]\n",
    "    if i <= 1997: \n",
    "        nuevos_tickets = ['WMT' , 'JNJ' , 'HPQ' , 'C']\n",
    "        viejos_tickets = ['WX' , 'FL' , 'CVQ' , 'bs']\n",
    "        tickers_total = [viejos_tickets[nuevos_tickets.index(ticker)] if ticker in nuevos_tickets else ticker for ticker in tickers_total]\n",
    "    if i <= 1991: \n",
    "        nuevos_tickets = ['DIS' , 'CAT' , 'JPM']\n",
    "        viejos_tickets = ['X' , 'NAV' , 'PRI']\n",
    "        tickers_total = [viejos_tickets[nuevos_tickets.index(ticker)] if ticker in nuevos_tickets else ticker for ticker in tickers_total]\n",
    "    if i <= 1987: \n",
    "        nuevos_tickets = ['KO' , 'BA']\n",
    "        viejos_tickets = ['OI' , 'VALE']\n",
    "        tickers_total = [viejos_tickets[nuevos_tickets.index(ticker)] if ticker in nuevos_tickets else ticker for ticker in tickers_total]\n",
    "    if i <= 1985: \n",
    "        nuevos_tickets = ['MCD' , 'MO']\n",
    "        viejos_tickets = ['GIS' , 'GBX']\n",
    "        tickers_total = [viejos_tickets[nuevos_tickets.index(ticker)] if ticker in nuevos_tickets else ticker for ticker in tickers_total]\n",
    "    if i <= 1982: \n",
    "        nuevos_tickets = ['AXP'] \n",
    "        viejos_tickets = ['JM'] \n",
    "        tickers_total = [viejos_tickets[nuevos_tickets.index(ticker)] if ticker in nuevos_tickets else ticker for ticker in tickers_total]\n",
    "    if i <= 1979: \n",
    "        nuevos_tickets = ['MRK' , 'IBM'] \n",
    "        viejos_tickets = ['STLA' , 'JBSAY'] \n",
    "        tickers_total = [viejos_tickets[nuevos_tickets.index(ticker)] if ticker in nuevos_tickets else ticker for ticker in tickers_total]\n",
    "    if i <= 1976: \n",
    "        nuevos_tickets = ['MMM'] \n",
    "        viejos_tickets = ['BP']\n",
    "        tickers_total = [viejos_tickets[nuevos_tickets.index(ticker)] if ticker in nuevos_tickets else ticker for ticker in tickers_total]\n",
    "\n",
    "    listado_empresas[f'{i}'] = tickers_total\n",
    "    i -= 1 "
   ]
  },
  {
   "cell_type": "code",
   "execution_count": 41,
   "id": "8e2a50fa-463b-49f9-91ba-8ed99372e74d",
   "metadata": {},
   "outputs": [],
   "source": [
    "#Se exporta el diccionario para almacenarlo en un archivo .json\n",
    "try: \n",
    "    empresas_JSON = json.dumps(listado_empresas, indent = 4)\n",
    "    empresas_todos_los_años = open(\"Empresas/Empresas_años.json\" , \"w\")\n",
    "    empresas_todos_los_años.write(empresas_JSON)\n",
    "    empresas_todos_los_años.close()\n",
    "except: \n",
    "    print(\"No se puede guardar el diccionario en el archivo\")"
   ]
  },
  {
   "cell_type": "code",
   "execution_count": 40,
   "id": "367f60a8-0ca7-406e-bc55-f0aa90b4297d",
   "metadata": {},
   "outputs": [
    {
     "data": {
      "text/plain": [
       "65"
      ]
     },
     "execution_count": 40,
     "metadata": {},
     "output_type": "execute_result"
    }
   ],
   "source": [
    "#Se obtiene una lista con los tickers de TODAS las empresas que formaron parte del Dow Jones desde 1.970\n",
    "todos_los_tickers = set()\n",
    "for listados in listado_empresas: \n",
    "    todos_los_tickers = todos_los_tickers | set(listado_empresas[listados])\n",
    "todos_los_tickers = list(todos_los_tickers)\n",
    "len(todos_los_tickers)"
   ]
  },
  {
   "cell_type": "markdown",
   "id": "9f7c00aa-1a0b-4fd9-83c7-61c02e3f2578",
   "metadata": {},
   "source": [
    "### Datos de TODAS las empresas"
   ]
  },
  {
   "cell_type": "markdown",
   "id": "fef4a707-ee3c-41f5-9025-d485f645f90b",
   "metadata": {},
   "source": [
    "Esta sección se centra en obtener los precios históricos diarios de todas las acciones que se encuentran en la lista de empresas que conformaron al Dow Jones desde 1.970"
   ]
  },
  {
   "cell_type": "code",
   "execution_count": 18,
   "id": "3864d8f5-a2a8-403a-9bd7-80f00ac21549",
   "metadata": {},
   "outputs": [
    {
     "name": "stderr",
     "output_type": "stream",
     "text": [
      "[*********************100%%**********************]  65 of 65 completed\n",
      "\n",
      "7 Failed downloads:\n",
      "['BS', 'KFT', 'WX', 'UTC', 'MTLQQ']: Exception('%ticker%: No price data found, symbol may be delisted (1d 1925-08-04 -> 2024-07-11)')\n",
      "['SHLDQ', 'NAV']: Exception('%ticker%: No timezone found, symbol may be delisted')\n"
     ]
    }
   ],
   "source": [
    "data_historica_acciones = yf.download(todos_los_tickers)['Adj Close']\n",
    "data_historica_acciones.to_csv(r'C:/Users/silva/Desktop/Metodologia_Markowitz-Sharpe/Dataset/Datos_acciones.csv')"
   ]
  },
  {
   "cell_type": "code",
   "execution_count": 20,
   "id": "0aa00961-606b-4dd9-917d-8f0605d442a8",
   "metadata": {},
   "outputs": [
    {
     "data": {
      "text/html": [
       "<div>\n",
       "<style scoped>\n",
       "    .dataframe tbody tr th:only-of-type {\n",
       "        vertical-align: middle;\n",
       "    }\n",
       "\n",
       "    .dataframe tbody tr th {\n",
       "        vertical-align: top;\n",
       "    }\n",
       "\n",
       "    .dataframe thead th {\n",
       "        text-align: right;\n",
       "    }\n",
       "</style>\n",
       "<table border=\"1\" class=\"dataframe\">\n",
       "  <thead>\n",
       "    <tr style=\"text-align: right;\">\n",
       "      <th></th>\n",
       "      <th>Date</th>\n",
       "      <th>AA</th>\n",
       "      <th>AAPL</th>\n",
       "      <th>AIG</th>\n",
       "      <th>AMGN</th>\n",
       "      <th>AMZN</th>\n",
       "      <th>AXP</th>\n",
       "      <th>BA</th>\n",
       "      <th>BAC</th>\n",
       "      <th>BP</th>\n",
       "      <th>...</th>\n",
       "      <th>UNH</th>\n",
       "      <th>UTC</th>\n",
       "      <th>V</th>\n",
       "      <th>VALE</th>\n",
       "      <th>VZ</th>\n",
       "      <th>WBA</th>\n",
       "      <th>WMT</th>\n",
       "      <th>WX</th>\n",
       "      <th>X</th>\n",
       "      <th>XOM</th>\n",
       "    </tr>\n",
       "  </thead>\n",
       "  <tbody>\n",
       "    <tr>\n",
       "      <th>0</th>\n",
       "      <td>1962-01-02</td>\n",
       "      <td>1.503235</td>\n",
       "      <td>NaN</td>\n",
       "      <td>NaN</td>\n",
       "      <td>NaN</td>\n",
       "      <td>NaN</td>\n",
       "      <td>NaN</td>\n",
       "      <td>0.190931</td>\n",
       "      <td>NaN</td>\n",
       "      <td>0.048472</td>\n",
       "      <td>...</td>\n",
       "      <td>NaN</td>\n",
       "      <td>NaN</td>\n",
       "      <td>NaN</td>\n",
       "      <td>NaN</td>\n",
       "      <td>NaN</td>\n",
       "      <td>NaN</td>\n",
       "      <td>NaN</td>\n",
       "      <td>NaN</td>\n",
       "      <td>NaN</td>\n",
       "      <td>0.094137</td>\n",
       "    </tr>\n",
       "    <tr>\n",
       "      <th>1</th>\n",
       "      <td>1962-01-03</td>\n",
       "      <td>1.526231</td>\n",
       "      <td>NaN</td>\n",
       "      <td>NaN</td>\n",
       "      <td>NaN</td>\n",
       "      <td>NaN</td>\n",
       "      <td>NaN</td>\n",
       "      <td>0.194750</td>\n",
       "      <td>NaN</td>\n",
       "      <td>0.049136</td>\n",
       "      <td>...</td>\n",
       "      <td>NaN</td>\n",
       "      <td>NaN</td>\n",
       "      <td>NaN</td>\n",
       "      <td>NaN</td>\n",
       "      <td>NaN</td>\n",
       "      <td>NaN</td>\n",
       "      <td>NaN</td>\n",
       "      <td>NaN</td>\n",
       "      <td>NaN</td>\n",
       "      <td>0.095535</td>\n",
       "    </tr>\n",
       "    <tr>\n",
       "      <th>2</th>\n",
       "      <td>1962-01-04</td>\n",
       "      <td>1.526231</td>\n",
       "      <td>NaN</td>\n",
       "      <td>NaN</td>\n",
       "      <td>NaN</td>\n",
       "      <td>NaN</td>\n",
       "      <td>NaN</td>\n",
       "      <td>0.192840</td>\n",
       "      <td>NaN</td>\n",
       "      <td>0.048251</td>\n",
       "      <td>...</td>\n",
       "      <td>NaN</td>\n",
       "      <td>NaN</td>\n",
       "      <td>NaN</td>\n",
       "      <td>NaN</td>\n",
       "      <td>NaN</td>\n",
       "      <td>NaN</td>\n",
       "      <td>NaN</td>\n",
       "      <td>NaN</td>\n",
       "      <td>NaN</td>\n",
       "      <td>0.095768</td>\n",
       "    </tr>\n",
       "    <tr>\n",
       "      <th>3</th>\n",
       "      <td>1962-01-05</td>\n",
       "      <td>1.523356</td>\n",
       "      <td>NaN</td>\n",
       "      <td>NaN</td>\n",
       "      <td>NaN</td>\n",
       "      <td>NaN</td>\n",
       "      <td>NaN</td>\n",
       "      <td>0.189022</td>\n",
       "      <td>NaN</td>\n",
       "      <td>0.046923</td>\n",
       "      <td>...</td>\n",
       "      <td>NaN</td>\n",
       "      <td>NaN</td>\n",
       "      <td>NaN</td>\n",
       "      <td>NaN</td>\n",
       "      <td>NaN</td>\n",
       "      <td>NaN</td>\n",
       "      <td>NaN</td>\n",
       "      <td>NaN</td>\n",
       "      <td>NaN</td>\n",
       "      <td>0.093671</td>\n",
       "    </tr>\n",
       "    <tr>\n",
       "      <th>4</th>\n",
       "      <td>1962-01-08</td>\n",
       "      <td>1.471619</td>\n",
       "      <td>NaN</td>\n",
       "      <td>NaN</td>\n",
       "      <td>NaN</td>\n",
       "      <td>NaN</td>\n",
       "      <td>NaN</td>\n",
       "      <td>0.189499</td>\n",
       "      <td>NaN</td>\n",
       "      <td>0.047808</td>\n",
       "      <td>...</td>\n",
       "      <td>NaN</td>\n",
       "      <td>NaN</td>\n",
       "      <td>NaN</td>\n",
       "      <td>NaN</td>\n",
       "      <td>NaN</td>\n",
       "      <td>NaN</td>\n",
       "      <td>NaN</td>\n",
       "      <td>NaN</td>\n",
       "      <td>NaN</td>\n",
       "      <td>0.093438</td>\n",
       "    </tr>\n",
       "  </tbody>\n",
       "</table>\n",
       "<p>5 rows × 66 columns</p>\n",
       "</div>"
      ],
      "text/plain": [
       "         Date        AA  AAPL  AIG  AMGN  AMZN  AXP        BA  BAC        BP  \\\n",
       "0  1962-01-02  1.503235   NaN  NaN   NaN   NaN  NaN  0.190931  NaN  0.048472   \n",
       "1  1962-01-03  1.526231   NaN  NaN   NaN   NaN  NaN  0.194750  NaN  0.049136   \n",
       "2  1962-01-04  1.526231   NaN  NaN   NaN   NaN  NaN  0.192840  NaN  0.048251   \n",
       "3  1962-01-05  1.523356   NaN  NaN   NaN   NaN  NaN  0.189022  NaN  0.046923   \n",
       "4  1962-01-08  1.471619   NaN  NaN   NaN   NaN  NaN  0.189499  NaN  0.047808   \n",
       "\n",
       "   ...  UNH  UTC   V  VALE  VZ  WBA  WMT  WX   X       XOM  \n",
       "0  ...  NaN  NaN NaN   NaN NaN  NaN  NaN NaN NaN  0.094137  \n",
       "1  ...  NaN  NaN NaN   NaN NaN  NaN  NaN NaN NaN  0.095535  \n",
       "2  ...  NaN  NaN NaN   NaN NaN  NaN  NaN NaN NaN  0.095768  \n",
       "3  ...  NaN  NaN NaN   NaN NaN  NaN  NaN NaN NaN  0.093671  \n",
       "4  ...  NaN  NaN NaN   NaN NaN  NaN  NaN NaN NaN  0.093438  \n",
       "\n",
       "[5 rows x 66 columns]"
      ]
     },
     "execution_count": 20,
     "metadata": {},
     "output_type": "execute_result"
    }
   ],
   "source": [
    "data_acciones = pd.read_csv('Dataset/Datos_acciones.csv')\n",
    "data_acciones.head()"
   ]
  },
  {
   "cell_type": "code",
   "execution_count": 13,
   "id": "ec98bb68-8c22-403d-866f-0eeb51274507",
   "metadata": {
    "scrolled": true
   },
   "outputs": [
    {
     "name": "stdout",
     "output_type": "stream",
     "text": [
      "<class 'pandas.core.frame.DataFrame'>\n",
      "RangeIndex: 15697 entries, 0 to 15696\n",
      "Data columns (total 66 columns):\n",
      " #   Column  Non-Null Count  Dtype  \n",
      "---  ------  --------------  -----  \n",
      " 0   Date    15697 non-null  object \n",
      " 1   AA      15697 non-null  float64\n",
      " 2   AAPL    10944 non-null  float64\n",
      " 3   AIG     12952 non-null  float64\n",
      " 4   AMGN    10309 non-null  float64\n",
      " 5   AMZN    6792 non-null   float64\n",
      " 6   AXP     13098 non-null  float64\n",
      " 7   BA      15697 non-null  float64\n",
      " 8   BAC     12918 non-null  float64\n",
      " 9   BP      15697 non-null  float64\n",
      " 10  BS      0 non-null      float64\n",
      " 11  C       11941 non-null  float64\n",
      " 12  CAT     15697 non-null  float64\n",
      " 13  CRM     5006 non-null   float64\n",
      " 14  CSCO    8623 non-null   float64\n",
      " 15  CVQ     163 non-null    float64\n",
      " 16  CVX     15697 non-null  float64\n",
      " 17  DD      13098 non-null  float64\n",
      " 18  DIS     15697 non-null  float64\n",
      " 19  DOW     1296 non-null   float64\n",
      " 20  FL      15697 non-null  float64\n",
      " 21  GBX     7510 non-null   float64\n",
      " 22  GE      15697 non-null  float64\n",
      " 23  GIS     11132 non-null  float64\n",
      " 24  GS      6297 non-null   float64\n",
      " 25  GT      15697 non-null  float64\n",
      " 26  HD      10749 non-null  float64\n",
      " 27  HON     15697 non-null  float64\n",
      " 28  HPQ     15697 non-null  float64\n",
      " 29  IBM     15697 non-null  float64\n",
      " 30  INTC    11132 non-null  float64\n",
      " 31  IP      15697 non-null  float64\n",
      " 32  JBSAY   3602 non-null   float64\n",
      " 33  JM      1 non-null      float64\n",
      " 34  JNJ     15697 non-null  float64\n",
      " 35  JPM     11132 non-null  float64\n",
      " 36  KFT     0 non-null      float64\n",
      " 37  KO      15697 non-null  float64\n",
      " 38  KODK    2677 non-null   float64\n",
      " 39  MCD     14562 non-null  float64\n",
      " 40  MMM     15697 non-null  float64\n",
      " 41  MO      15697 non-null  float64\n",
      " 42  MRK     15697 non-null  float64\n",
      " 43  MSFT    9618 non-null   float64\n",
      " 44  MTLQQ   0 non-null      float64\n",
      " 45  NAV     0 non-null      float64\n",
      " 46  NKE     10952 non-null  float64\n",
      " 47  OI      8164 non-null   float64\n",
      " 48  PFE     13098 non-null  float64\n",
      " 49  PG      15697 non-null  float64\n",
      " 50  PRI     3552 non-null   float64\n",
      " 51  SHLDQ   0 non-null      float64\n",
      " 52  STLA    3505 non-null   float64\n",
      " 53  T       10200 non-null  float64\n",
      " 54  TRV     12225 non-null  float64\n",
      " 55  UK      1134 non-null   float64\n",
      " 56  UNH     9971 non-null   float64\n",
      " 57  UTC     0 non-null      float64\n",
      " 58  V       4065 non-null   float64\n",
      " 59  VALE    5574 non-null   float64\n",
      " 60  VZ      10200 non-null  float64\n",
      " 61  WBA     11132 non-null  float64\n",
      " 62  WMT     13038 non-null  float64\n",
      " 63  WX      0 non-null      float64\n",
      " 64  X       8333 non-null   float64\n",
      " 65  XOM     15697 non-null  float64\n",
      "dtypes: float64(65), object(1)\n",
      "memory usage: 7.9+ MB\n"
     ]
    }
   ],
   "source": [
    "#Se utiliza esta función para ver la cantidad de datos no nulos de cada una de las empresas, es decir, para saber cuanta info se tiene de cada una\n",
    "data_acciones.info()"
   ]
  },
  {
   "cell_type": "markdown",
   "id": "76a294da-5164-4d80-b2cd-1d842b666d93",
   "metadata": {},
   "source": [
    "### Datos del Dow Jones"
   ]
  },
  {
   "cell_type": "markdown",
   "id": "1040774b-acf6-4ad9-b5c5-f9b1b159c54a",
   "metadata": {},
   "source": [
    "En esta sección se busca obtener la mayor cantidad de valores diarios del Dow Jones. Se obtienen desde los lugares, con el ticker DJI se obtienen los valores del propio índice, mientras que con DJIA se obtienen los valores del ETF del Dow Jones, que empezó a cotizar en el 2.022"
   ]
  },
  {
   "cell_type": "code",
   "execution_count": 2,
   "id": "83b8531c-13c6-4f4c-b8cb-0a08a5749be4",
   "metadata": {},
   "outputs": [
    {
     "name": "stderr",
     "output_type": "stream",
     "text": [
      "[*********************100%%**********************]  1 of 1 completed\n"
     ]
    }
   ],
   "source": [
    "dow_jones = yf.download('DJI')['Adj Close']\n",
    "dow_jones.to_csv(r'C:/Users/silva/Desktop/Metodologia_Markowitz-Sharpe/Dataset/DJI.csv')"
   ]
  },
  {
   "cell_type": "code",
   "execution_count": 4,
   "id": "60e3c9d6-7d27-434c-b0b5-14ed32c8fbd9",
   "metadata": {
    "scrolled": true
   },
   "outputs": [
    {
     "data": {
      "text/html": [
       "<div>\n",
       "<style scoped>\n",
       "    .dataframe tbody tr th:only-of-type {\n",
       "        vertical-align: middle;\n",
       "    }\n",
       "\n",
       "    .dataframe tbody tr th {\n",
       "        vertical-align: top;\n",
       "    }\n",
       "\n",
       "    .dataframe thead th {\n",
       "        text-align: right;\n",
       "    }\n",
       "</style>\n",
       "<table border=\"1\" class=\"dataframe\">\n",
       "  <thead>\n",
       "    <tr style=\"text-align: right;\">\n",
       "      <th></th>\n",
       "      <th>Date</th>\n",
       "      <th>Adj Close</th>\n",
       "    </tr>\n",
       "  </thead>\n",
       "  <tbody>\n",
       "    <tr>\n",
       "      <th>0</th>\n",
       "      <td>1970-01-02</td>\n",
       "      <td>809.200012</td>\n",
       "    </tr>\n",
       "    <tr>\n",
       "      <th>1</th>\n",
       "      <td>1970-01-05</td>\n",
       "      <td>811.309998</td>\n",
       "    </tr>\n",
       "    <tr>\n",
       "      <th>2</th>\n",
       "      <td>1970-01-06</td>\n",
       "      <td>803.659973</td>\n",
       "    </tr>\n",
       "    <tr>\n",
       "      <th>3</th>\n",
       "      <td>1970-01-07</td>\n",
       "      <td>801.809998</td>\n",
       "    </tr>\n",
       "    <tr>\n",
       "      <th>4</th>\n",
       "      <td>1970-01-08</td>\n",
       "      <td>802.070007</td>\n",
       "    </tr>\n",
       "  </tbody>\n",
       "</table>\n",
       "</div>"
      ],
      "text/plain": [
       "         Date   Adj Close\n",
       "0  1970-01-02  809.200012\n",
       "1  1970-01-05  811.309998\n",
       "2  1970-01-06  803.659973\n",
       "3  1970-01-07  801.809998\n",
       "4  1970-01-08  802.070007"
      ]
     },
     "execution_count": 4,
     "metadata": {},
     "output_type": "execute_result"
    }
   ],
   "source": [
    "DJI = pd.read_csv('Dataset/DJI.csv')\n",
    "DJI.head()"
   ]
  },
  {
   "cell_type": "code",
   "execution_count": 5,
   "id": "4eedf4a9-e153-4233-8b14-05ce9eff3447",
   "metadata": {},
   "outputs": [
    {
     "data": {
      "text/html": [
       "<div>\n",
       "<style scoped>\n",
       "    .dataframe tbody tr th:only-of-type {\n",
       "        vertical-align: middle;\n",
       "    }\n",
       "\n",
       "    .dataframe tbody tr th {\n",
       "        vertical-align: top;\n",
       "    }\n",
       "\n",
       "    .dataframe thead th {\n",
       "        text-align: right;\n",
       "    }\n",
       "</style>\n",
       "<table border=\"1\" class=\"dataframe\">\n",
       "  <thead>\n",
       "    <tr style=\"text-align: right;\">\n",
       "      <th></th>\n",
       "      <th>Date</th>\n",
       "      <th>Adj Close</th>\n",
       "    </tr>\n",
       "  </thead>\n",
       "  <tbody>\n",
       "    <tr>\n",
       "      <th>12980</th>\n",
       "      <td>2022-02-22</td>\n",
       "      <td>33596.601562</td>\n",
       "    </tr>\n",
       "    <tr>\n",
       "      <th>12981</th>\n",
       "      <td>2022-02-23</td>\n",
       "      <td>33131.800781</td>\n",
       "    </tr>\n",
       "    <tr>\n",
       "      <th>12982</th>\n",
       "      <td>2022-02-24</td>\n",
       "      <td>33223.800781</td>\n",
       "    </tr>\n",
       "    <tr>\n",
       "      <th>12983</th>\n",
       "      <td>2022-02-25</td>\n",
       "      <td>34058.800781</td>\n",
       "    </tr>\n",
       "    <tr>\n",
       "      <th>12984</th>\n",
       "      <td>2022-02-28</td>\n",
       "      <td>33892.601562</td>\n",
       "    </tr>\n",
       "    <tr>\n",
       "      <th>12985</th>\n",
       "      <td>2022-03-01</td>\n",
       "      <td>33294.898438</td>\n",
       "    </tr>\n",
       "    <tr>\n",
       "      <th>12986</th>\n",
       "      <td>2022-03-02</td>\n",
       "      <td>33891.300781</td>\n",
       "    </tr>\n",
       "  </tbody>\n",
       "</table>\n",
       "</div>"
      ],
      "text/plain": [
       "             Date     Adj Close\n",
       "12980  2022-02-22  33596.601562\n",
       "12981  2022-02-23  33131.800781\n",
       "12982  2022-02-24  33223.800781\n",
       "12983  2022-02-25  34058.800781\n",
       "12984  2022-02-28  33892.601562\n",
       "12985  2022-03-01  33294.898438\n",
       "12986  2022-03-02  33891.300781"
      ]
     },
     "execution_count": 5,
     "metadata": {},
     "output_type": "execute_result"
    }
   ],
   "source": [
    "DJI.tail(7)"
   ]
  },
  {
   "cell_type": "code",
   "execution_count": 6,
   "id": "7036d87e-f056-421a-9bc6-7b16a14a977d",
   "metadata": {},
   "outputs": [
    {
     "name": "stdout",
     "output_type": "stream",
     "text": [
      "<class 'pandas.core.frame.DataFrame'>\n",
      "RangeIndex: 12987 entries, 0 to 12986\n",
      "Data columns (total 2 columns):\n",
      " #   Column     Non-Null Count  Dtype  \n",
      "---  ------     --------------  -----  \n",
      " 0   Date       12987 non-null  object \n",
      " 1   Adj Close  12987 non-null  float64\n",
      "dtypes: float64(1), object(1)\n",
      "memory usage: 203.1+ KB\n"
     ]
    }
   ],
   "source": [
    "#DJI['Date'] = pd.to_datetime(DJI['Date'])\n",
    "#Vemos la cantidad de datos de la serie de DJI\n",
    "DJI.info()"
   ]
  },
  {
   "cell_type": "code",
   "execution_count": 7,
   "id": "5bfbb2e9-9003-49de-a873-7bb7012214bb",
   "metadata": {},
   "outputs": [
    {
     "name": "stderr",
     "output_type": "stream",
     "text": [
      "[*********************100%%**********************]  1 of 1 completed\n"
     ]
    }
   ],
   "source": [
    "dow_jones_2 = yf.download('DJIA')['Adj Close']\n",
    "dow_jones_2.to_csv(r'C:/Users/silva/Desktop/Metodologia_Markowitz-Sharpe/Dataset/DJIA.csv')"
   ]
  },
  {
   "cell_type": "code",
   "execution_count": 15,
   "id": "83edadfb-804e-41bb-8ca7-d08eea848e6e",
   "metadata": {},
   "outputs": [
    {
     "data": {
      "text/html": [
       "<div>\n",
       "<style scoped>\n",
       "    .dataframe tbody tr th:only-of-type {\n",
       "        vertical-align: middle;\n",
       "    }\n",
       "\n",
       "    .dataframe tbody tr th {\n",
       "        vertical-align: top;\n",
       "    }\n",
       "\n",
       "    .dataframe thead th {\n",
       "        text-align: right;\n",
       "    }\n",
       "</style>\n",
       "<table border=\"1\" class=\"dataframe\">\n",
       "  <thead>\n",
       "    <tr style=\"text-align: right;\">\n",
       "      <th></th>\n",
       "      <th>Date</th>\n",
       "      <th>Adj Close</th>\n",
       "    </tr>\n",
       "  </thead>\n",
       "  <tbody>\n",
       "    <tr>\n",
       "      <th>0</th>\n",
       "      <td>2022-02-24</td>\n",
       "      <td>20.012421</td>\n",
       "    </tr>\n",
       "    <tr>\n",
       "      <th>1</th>\n",
       "      <td>2022-02-25</td>\n",
       "      <td>20.324968</td>\n",
       "    </tr>\n",
       "    <tr>\n",
       "      <th>2</th>\n",
       "      <td>2022-02-28</td>\n",
       "      <td>20.339025</td>\n",
       "    </tr>\n",
       "    <tr>\n",
       "      <th>3</th>\n",
       "      <td>2022-03-01</td>\n",
       "      <td>20.069469</td>\n",
       "    </tr>\n",
       "    <tr>\n",
       "      <th>4</th>\n",
       "      <td>2022-03-02</td>\n",
       "      <td>20.390289</td>\n",
       "    </tr>\n",
       "  </tbody>\n",
       "</table>\n",
       "</div>"
      ],
      "text/plain": [
       "         Date  Adj Close\n",
       "0  2022-02-24  20.012421\n",
       "1  2022-02-25  20.324968\n",
       "2  2022-02-28  20.339025\n",
       "3  2022-03-01  20.069469\n",
       "4  2022-03-02  20.390289"
      ]
     },
     "execution_count": 15,
     "metadata": {},
     "output_type": "execute_result"
    }
   ],
   "source": [
    "DJIA = pd.read_csv('Dataset/DJIA.csv')\n",
    "DJIA.head()"
   ]
  },
  {
   "cell_type": "code",
   "execution_count": 16,
   "id": "6ca0ace9-a256-4eb7-8665-649a85909f5e",
   "metadata": {},
   "outputs": [
    {
     "name": "stdout",
     "output_type": "stream",
     "text": [
      "<class 'pandas.core.frame.DataFrame'>\n",
      "RangeIndex: 597 entries, 0 to 596\n",
      "Data columns (total 2 columns):\n",
      " #   Column     Non-Null Count  Dtype  \n",
      "---  ------     --------------  -----  \n",
      " 0   Date       597 non-null    object \n",
      " 1   Adj Close  597 non-null    float64\n",
      "dtypes: float64(1), object(1)\n",
      "memory usage: 9.5+ KB\n"
     ]
    }
   ],
   "source": [
    "#Vemos la cantidad de datos de la serie de DJIA\n",
    "DJIA.info()"
   ]
  },
  {
   "cell_type": "markdown",
   "id": "35285e45-7076-4bd4-aab2-cf9c81fa42c8",
   "metadata": {},
   "source": [
    "### Emplame de series del Dow Jones"
   ]
  },
  {
   "cell_type": "markdown",
   "id": "78891c1a-5fef-403c-a278-6a3dd0d7abe8",
   "metadata": {},
   "source": [
    "En esta sección se va a construir el csv con todos los datos que se poseen del Dow Jones. Para ello, se van a tener que empalmar las series de DJI y de DJIA, ya que mientras que la primera termina en el 2.022, la segunda comienza para esa fecha. Para lograrlo, se deberá de obtener un número que permita convertir los valores de una, en valores semejantes a los de la otra."
   ]
  },
  {
   "cell_type": "code",
   "execution_count": 17,
   "id": "53368884-479a-48f8-94ad-da6590df14be",
   "metadata": {},
   "outputs": [
    {
     "data": {
      "text/plain": [
       "'2022-02-24'"
      ]
     },
     "execution_count": 17,
     "metadata": {},
     "output_type": "execute_result"
    }
   ],
   "source": [
    "DJIA['Date'][0]"
   ]
  },
  {
   "cell_type": "code",
   "execution_count": 19,
   "id": "fd8be01d-1ded-4fff-8bff-a14c2de4a921",
   "metadata": {},
   "outputs": [
    {
     "data": {
      "text/plain": [
       "1664.6732241051843"
      ]
     },
     "execution_count": 19,
     "metadata": {},
     "output_type": "execute_result"
    }
   ],
   "source": [
    "#Se va a calcular el factor por el que hará de multiplicarse a los valores de la serie de DJIA, para que sean semejantes a los de la serie de DJI\n",
    "corte = int(DJI.loc[DJI['Date'] == DJIA['Date'][0]].index[0])\n",
    "\n",
    "numeros_empalmados = DJI[corte:].set_index('Date')\n",
    "empalme = pd.concat([DJIA.set_index('Date'), numeros_empalmados], axis = 1).dropna()\n",
    "empalme['factor_de_empalme'] = empalme.iloc[:, 1] / empalme.iloc[:, 0]\n",
    "\n",
    "#Se calcula el factor de empalme\n",
    "factor_empalme = empalme['factor_de_empalme'].mean()\n",
    "factor_empalme"
   ]
  },
  {
   "cell_type": "code",
   "execution_count": 12,
   "id": "a7e04475-7e35-4170-8e90-c4c14d615f89",
   "metadata": {},
   "outputs": [
    {
     "data": {
      "text/html": [
       "<div>\n",
       "<style scoped>\n",
       "    .dataframe tbody tr th:only-of-type {\n",
       "        vertical-align: middle;\n",
       "    }\n",
       "\n",
       "    .dataframe tbody tr th {\n",
       "        vertical-align: top;\n",
       "    }\n",
       "\n",
       "    .dataframe thead th {\n",
       "        text-align: right;\n",
       "    }\n",
       "</style>\n",
       "<table border=\"1\" class=\"dataframe\">\n",
       "  <thead>\n",
       "    <tr style=\"text-align: right;\">\n",
       "      <th></th>\n",
       "      <th>Date</th>\n",
       "      <th>Adj Close</th>\n",
       "    </tr>\n",
       "  </thead>\n",
       "  <tbody>\n",
       "    <tr>\n",
       "      <th>0</th>\n",
       "      <td>2022-02-24</td>\n",
       "      <td>33314.140813</td>\n",
       "    </tr>\n",
       "    <tr>\n",
       "      <th>1</th>\n",
       "      <td>2022-02-25</td>\n",
       "      <td>33834.430573</td>\n",
       "    </tr>\n",
       "    <tr>\n",
       "      <th>2</th>\n",
       "      <td>2022-02-28</td>\n",
       "      <td>33857.831150</td>\n",
       "    </tr>\n",
       "    <tr>\n",
       "      <th>3</th>\n",
       "      <td>2022-03-01</td>\n",
       "      <td>33409.108419</td>\n",
       "    </tr>\n",
       "    <tr>\n",
       "      <th>4</th>\n",
       "      <td>2022-03-02</td>\n",
       "      <td>33943.168641</td>\n",
       "    </tr>\n",
       "  </tbody>\n",
       "</table>\n",
       "</div>"
      ],
      "text/plain": [
       "         Date     Adj Close\n",
       "0  2022-02-24  33314.140813\n",
       "1  2022-02-25  33834.430573\n",
       "2  2022-02-28  33857.831150\n",
       "3  2022-03-01  33409.108419\n",
       "4  2022-03-02  33943.168641"
      ]
     },
     "execution_count": 12,
     "metadata": {},
     "output_type": "execute_result"
    }
   ],
   "source": [
    "DJIA['Adj Close'] = DJIA['Adj Close'].copy() * factor_empalme\n",
    "DJIA.head()"
   ]
  },
  {
   "cell_type": "code",
   "execution_count": 13,
   "id": "497ccf41-8d1e-4082-a64f-9a150883f851",
   "metadata": {},
   "outputs": [
    {
     "data": {
      "text/html": [
       "<div>\n",
       "<style scoped>\n",
       "    .dataframe tbody tr th:only-of-type {\n",
       "        vertical-align: middle;\n",
       "    }\n",
       "\n",
       "    .dataframe tbody tr th {\n",
       "        vertical-align: top;\n",
       "    }\n",
       "\n",
       "    .dataframe thead th {\n",
       "        text-align: right;\n",
       "    }\n",
       "</style>\n",
       "<table border=\"1\" class=\"dataframe\">\n",
       "  <thead>\n",
       "    <tr style=\"text-align: right;\">\n",
       "      <th></th>\n",
       "      <th>Date</th>\n",
       "      <th>Adj Close</th>\n",
       "    </tr>\n",
       "  </thead>\n",
       "  <tbody>\n",
       "    <tr>\n",
       "      <th>5</th>\n",
       "      <td>2022-03-03</td>\n",
       "      <td>33839.929867</td>\n",
       "    </tr>\n",
       "    <tr>\n",
       "      <th>6</th>\n",
       "      <td>2022-03-04</td>\n",
       "      <td>33757.351549</td>\n",
       "    </tr>\n",
       "    <tr>\n",
       "      <th>7</th>\n",
       "      <td>2022-03-07</td>\n",
       "      <td>33106.291618</td>\n",
       "    </tr>\n",
       "    <tr>\n",
       "      <th>8</th>\n",
       "      <td>2022-03-08</td>\n",
       "      <td>32945.246752</td>\n",
       "    </tr>\n",
       "    <tr>\n",
       "      <th>9</th>\n",
       "      <td>2022-03-09</td>\n",
       "      <td>33323.761403</td>\n",
       "    </tr>\n",
       "  </tbody>\n",
       "</table>\n",
       "</div>"
      ],
      "text/plain": [
       "         Date     Adj Close\n",
       "5  2022-03-03  33839.929867\n",
       "6  2022-03-04  33757.351549\n",
       "7  2022-03-07  33106.291618\n",
       "8  2022-03-08  32945.246752\n",
       "9  2022-03-09  33323.761403"
      ]
     },
     "execution_count": 13,
     "metadata": {},
     "output_type": "execute_result"
    }
   ],
   "source": [
    "ultimo_dato = DJI.iloc[-1][0]\n",
    "corte_ultimo_dato = int(DJIA.loc[DJIA['Date'] == ultimo_dato].index[0])\n",
    "DJIA = DJIA.copy()[corte_ultimo_dato+1:]\n",
    "DJIA.head()"
   ]
  },
  {
   "cell_type": "code",
   "execution_count": 14,
   "id": "5269a073-61d6-41b8-ada7-51007d92a054",
   "metadata": {},
   "outputs": [],
   "source": [
    "empalme = pd.concat([DJI, DJIA], axis = 0).set_index('Date')\n",
    "empalme.to_csv(r'C:/Users/silva/Desktop/Metodologia_Markowitz-Sharpe/Dataset/DOW_JONES_EMPALMADO.csv')"
   ]
  },
  {
   "cell_type": "markdown",
   "id": "c87248d7-e6b3-4585-84e1-a06468bf54dd",
   "metadata": {},
   "source": [
    "### Datos de bonos del tesoro"
   ]
  },
  {
   "cell_type": "markdown",
   "id": "c1a12c30-0531-4a61-9cef-05bd230f5f01",
   "metadata": {},
   "source": [
    "En esta sección se analiza la info que se consiguio sobre los rendimientos de los bonos del tesoro para distintos vencimientos"
   ]
  },
  {
   "cell_type": "code",
   "execution_count": 32,
   "id": "cf671580-abc7-4e95-b6a2-c0288153342d",
   "metadata": {},
   "outputs": [],
   "source": [
    "bonos_2 = pd.read_csv('Dataset/us_treasury_yields_daily.csv')\n",
    "bonos_2.rename(columns = {'date': 'Date'}, inplace = True)\n",
    "bonos_2.set_index('Date' , inplace = True)\n",
    "bonos_2 = bonos_2 / 100"
   ]
  },
  {
   "cell_type": "code",
   "execution_count": 55,
   "id": "1279d2fb-e26d-4c5f-b3d3-96a019dc19e6",
   "metadata": {},
   "outputs": [
    {
     "name": "stdout",
     "output_type": "stream",
     "text": [
      "<class 'pandas.core.frame.DataFrame'>\n",
      "Index: 16289 entries, 1962-01-02 to 2024-06-07\n",
      "Data columns (total 11 columns):\n",
      " #   Column  Non-Null Count  Dtype  \n",
      "---  ------  --------------  -----  \n",
      " 0   US1M    5717 non-null   float64\n",
      " 1   US3M    10693 non-null  float64\n",
      " 2   US6M    10693 non-null  float64\n",
      " 3   US1Y    15595 non-null  float64\n",
      " 4   US2Y    12003 non-null  float64\n",
      " 5   US3Y    15595 non-null  float64\n",
      " 6   US5Y    15595 non-null  float64\n",
      " 7   US7Y    13725 non-null  float64\n",
      " 8   US10Y   15595 non-null  float64\n",
      " 9   US20Y   13906 non-null  float64\n",
      " 10  US30Y   11825 non-null  float64\n",
      "dtypes: float64(11)\n",
      "memory usage: 1.5+ MB\n"
     ]
    }
   ],
   "source": [
    "#Se muestra la cantidad de información que se tienen de cada uno de los bonos\n",
    "bonos_2.info()"
   ]
  },
  {
   "cell_type": "code",
   "execution_count": 56,
   "id": "40152356-fdbc-4829-9c9a-ac12768004b5",
   "metadata": {},
   "outputs": [
    {
     "data": {
      "text/plain": [
       "Index(['US1M', 'US3M', 'US6M', 'US1Y', 'US2Y', 'US3Y', 'US5Y', 'US7Y', 'US10Y',\n",
       "       'US20Y', 'US30Y'],\n",
       "      dtype='object')"
      ]
     },
     "execution_count": 56,
     "metadata": {},
     "output_type": "execute_result"
    }
   ],
   "source": [
    "#Se muestran los distintos bonos para los que se tiene data, más que nada para saber los vencimientos que se poseen\n",
    "bonos_2.columns"
   ]
  },
  {
   "cell_type": "code",
   "execution_count": 35,
   "id": "cb66021e-0983-4459-8ae8-8e892a5f067d",
   "metadata": {},
   "outputs": [],
   "source": [
    "bonos_2.to_csv(r'C:/Users/silva/Desktop/Metodologia_Markowitz-Sharpe/Dataset/rendimientos_bonos.csv')"
   ]
  },
  {
   "cell_type": "markdown",
   "id": "d0b4e95f-e295-47c2-a4f8-7e1b41bde6fc",
   "metadata": {},
   "source": [
    "## FUNCIONES"
   ]
  },
  {
   "cell_type": "markdown",
   "id": "981bfef8-98a7-4feb-9e9f-2db1e1b668f2",
   "metadata": {},
   "source": [
    "### Solicitud de información"
   ]
  },
  {
   "cell_type": "markdown",
   "id": "a478d4dd-0b2a-448d-8c83-b37451365ebe",
   "metadata": {},
   "source": [
    "Estas funciones tienen el fin de poder obtener la información primaria necesaria para poder realizar tanto la optimización, como la evaluación y comparación del portafolio óptimo con el índice Dow Jones"
   ]
  },
  {
   "cell_type": "code",
   "execution_count": 42,
   "id": "5ddf3c73-af26-431b-8897-d0ef3f44c8ad",
   "metadata": {},
   "outputs": [],
   "source": [
    "def separar_fecha(fecha):\n",
    "    '''Esta función busca separar las fechas en sus partes: año, mes y día\n",
    "    Args: la fecha que se quiere dividir\n",
    "    Retorna los valores de año, mes y día respectivamente, y en formato entero'''\n",
    "    partes_fecha = fecha.split(\"-\")\n",
    "\n",
    "    return int(partes_fecha[0]) , int(partes_fecha[1]) , int(partes_fecha[2])\n",
    "\n",
    "def importador():\n",
    "    '''Esta  función sirve para importar los datos necesarios para la optimización\n",
    "    Retorna los dataframes con los datos del Dow Jones, de los precios de las acciones que lo han compuesto, y del rendimiento de los bonos'''\n",
    "    \n",
    "    dj = pd.read_csv('Dataset/DOW_JONES_EMPALMADO.csv')\n",
    "    acciones = pd.read_csv('Dataset/Datos_acciones.csv')\n",
    "    bonos = pd.read_csv('Dataset/rendimientos_bonos.csv')\n",
    "\n",
    "    return dj , acciones , bonos\n",
    "\n",
    "def importador_diccionario_empresas(): \n",
    "    '''Esta función permite importa las listas con las empresas que compusieorn el indice año a año\n",
    "    Retorna un diccionario que posee como clave los años desde 1970, y como valor una lista con los tickers de las empresas que estuvieron en el DJ'''\n",
    "    \n",
    "    try:\n",
    "        listado_empresas = open(\"Empresas/Empresas_años.json\" , \"r\")\n",
    "        empresas = listado_empresas.read() \n",
    "        listado_empresas.close()\n",
    "        empresas = json.loads(empresas)\n",
    "    except: \n",
    "        print(\"No se pudo importar el archivo\")\n",
    "\n",
    "    return empresas\n",
    "\n",
    "def restriccion_temporal(acciones, dow_jones):\n",
    "    '''La función busca imponer los límites a las fechas que puede poner el usuario para el análisis\n",
    "    Args: dataframe con los datos de las acciones, df con los datos del DJ\n",
    "    Retorna las fechas que imponen límites, de inicio y de finalización, a los periodos en los que se pueden hacer los análisis'''\n",
    "    \n",
    "    inicio_acciones = list(acciones['Date'])[0]\n",
    "    inicio_dow_jones = list(dow_jones['Date'])[0]\n",
    "    if inicio_acciones > inicio_dow_jones:\n",
    "        limite_inicial = inicio_acciones\n",
    "    else:\n",
    "        limite_inicial = inicio_dow_jones\n",
    "\n",
    "    fin_acciones = list(acciones['Date'])[-1]\n",
    "    fin_dow_jones = list(dow_jones['Date'])[-1]\n",
    "    if fin_acciones > fin_dow_jones:\n",
    "        limite_final = fin_acciones\n",
    "    else:\n",
    "        limite_final = fin_dow_jones\n",
    "    \n",
    "    return limite_inicial, limite_final\n",
    "\n",
    "def validacion_mes():\n",
    "    '''Permite validar si el valor del mes tiene sentido\n",
    "    Retorna, en caso de que el valor se encuentre entre 1 y 12, el valor del mes ingresado'''\n",
    "    \n",
    "    while True:\n",
    "        try: \n",
    "            mes = int(input(\"Ingrese el mes correspondiente: \"))\n",
    "            if mes < 1 or mes > 12:\n",
    "                print(\"El número ingresado no corresponde con níngun mes\")\n",
    "            else:\n",
    "                break\n",
    "        except ValueError:\n",
    "            print(\"El valor ingresado no es un número\")\n",
    "    return mes\n",
    "    \n",
    "def validacion_dia():\n",
    "    '''Permite validar si el valor del dia tiene sentido\n",
    "    Retorna, en caso de que el valor se encuentre entre 1 y 31, el valor del dia ingresado'''\n",
    "    while True:\n",
    "        try: \n",
    "            dia = int(input(\"Ingrese el dia correspondiente: \"))\n",
    "            if dia < 1 or dia > 31:\n",
    "                print(\"Ningún mes del año tiene la cantidad de días ingresada\")\n",
    "            else:\n",
    "                break\n",
    "        except ValueError:\n",
    "            print(\"El valor ingresado no es un número\")\n",
    "    return dia\n",
    "    \n",
    "def periodo_de_analisis(inicio_lim, fin_lim):\n",
    "    '''Esta funcion es para ingresar los valores por teclado los valores para la fecha de inciio y de la finalización del periodo de análisis\n",
    "    Args: fecha de límite inicial, fecha de limite final\n",
    "    Retorna las fechas de inciio y de la finalización del periodo de analisis'''\n",
    "    while True:\n",
    "        try:\n",
    "            año = int(input(\"Ingrese el año de comienzo del análisis: \"))\n",
    "            mes = validacion_mes()\n",
    "            dia = validacion_dia()\n",
    "            comienzo = f'{año}-{mes}-{dia}'\n",
    "            if comienzo < inicio_lim:\n",
    "                print(\"No existen valores tan hacia atrás en el tiempo\")\n",
    "            else:\n",
    "                break\n",
    "        except ValueError:\n",
    "            print(\"El valor ingresado no es un número\")\n",
    "    while True:\n",
    "        try:            \n",
    "            año_fin = int(input(\"Ingrese el año de finalización del análisis: \"))\n",
    "            mes_fin = validacion_mes()\n",
    "            dia_fin = validacion_dia()\n",
    "            final = f'{año_fin}-{mes_fin}-{dia_fin}'\n",
    "            if final > fin_lim:\n",
    "                print(\"No existen valores tan cercanos en el tiempo\")\n",
    "            elif final < comienzo:\n",
    "                print(\"El final del periodo de análsis no puede ser anterior al inicio\")\n",
    "            else:\n",
    "                break\n",
    "        except ValueError:\n",
    "            print(\"El valor ingresado no es un número\")\n",
    "    return comienzo, final\n",
    "\n",
    "def periodo_evaluacion(ini_analisis, lim_analisis):\n",
    "    '''Similar que la función anterior, pero para el periodo de evaluación\n",
    "    Args: fecha de finalización del periodo de análisis, y fecha de limite final para las solicitudes\n",
    "    Retorna las fechas de inicio y de finalización para el periodo de evaluación'''\n",
    "    while True:\n",
    "        try:\n",
    "            año_fin = int(input(\"Ingrese el año de finalización de la evaluación: \"))\n",
    "            mes_fin = validacion_mes()\n",
    "            dia_fin = validacion_dia()\n",
    "            final = f'{año_fin}-{mes_fin}-{dia_fin}'\n",
    "            if final < ini_analisis:\n",
    "                print(\"La evaluación no puede iniciar antes que la finalización del análisis\")\n",
    "            elif final > lim_analisis:\n",
    "                print(\"No existen datos posteriormente a esta fecha\")\n",
    "            else: \n",
    "                break \n",
    "        except ValueError:\n",
    "            print(\"El valor ingresado no es un número\")\n",
    "    return ini_analisis, final"
   ]
  },
  {
   "cell_type": "markdown",
   "id": "54ad42b6-ef80-45c3-bce6-be35fb272d36",
   "metadata": {},
   "source": [
    "### Tratamiento de los Datos"
   ]
  },
  {
   "cell_type": "markdown",
   "id": "f820c1bf-a8e0-40b8-9628-3021629695ec",
   "metadata": {},
   "source": [
    "Estas funciones trabajan la información primaria para poder obtener los dataframes finales que serán usados para realizar la optimización, y que posteriormente serán acomodados para contruir los gráficos. Entre las transformaciones hallamos el recorte temporal de los dataframes, el rellenado de los valores nulos, un filtrado de aquellas que no llegan a un mínimo de datos no nulos, entre otras."
   ]
  },
  {
   "cell_type": "code",
   "execution_count": 43,
   "id": "00003fc6-190b-446b-a7f0-d285ae7b4cfb",
   "metadata": {},
   "outputs": [],
   "source": [
    "def seleccion_tickers(tickers_año_a_año, fecha_ini, fecha_fn): \n",
    "    '''La función pemite obtener los tickers de las empresas que parmanecieron conformando al índice durante todo el periodo de análisis\n",
    "    Args: diccionario con los tickers de las empresas por año, fecha inicio del analisis, fecha finalizacion del analisis\n",
    "    Retorna una lista con los tickers de las empresas que se encuentran tanto al inicio como al final del analisis'''\n",
    "    \n",
    "    año_ini = separar_fecha(fecha_ini)[0]\n",
    "    año_fin = separar_fecha(fecha_fn)[0]\n",
    "    for tickers in tickers_año_a_año: \n",
    "        if tickers == str(año_ini): \n",
    "            tickers_iniciales = tickers_año_a_año[tickers] \n",
    "        if tickers == str(año_fin): \n",
    "            tickers_finales = tickers_año_a_año[tickers]\n",
    "    return list(set(tickers_iniciales) & set(tickers_finales))\n",
    "\n",
    "def ajuste_temporal_de_datos(dataframe, start, finish):\n",
    "    '''La función sirve para recortar los df con los datos, para que solo contengan los de los periodos seleccionados\n",
    "    Args: df a recortar, fecha de inicio del periodo, fecha de finalizacion del periodo\n",
    "    Retorna el df con fecha de inicio igual a la del periodo, y con fecha de cierre igual a la de finalización'''\n",
    "    \n",
    "    for dia in dataframe['Date']: \n",
    "        if dia <= finish: \n",
    "            fin = dia \n",
    "        else:\n",
    "            break \n",
    "    for dia in range(len(dataframe['Date'])-1, -1, -1): \n",
    "        if dataframe.loc[dia]['Date'] >= start: \n",
    "            inicio = dataframe.loc[dia]['Date'] \n",
    "        else:\n",
    "            break  \n",
    "    inicial = dataframe.loc[dataframe['Date'] == inicio].index[0]\n",
    "    final = dataframe.loc[dataframe['Date'] == fin].index[0]+1\n",
    "    \n",
    "    return dataframe[inicial : final]\n",
    "\n",
    "def seleccion_de_empresas(datos, empresas):\n",
    "    '''Permite seleccionar del df con los datos de todas las empresas, solo los datos de aquellas empresas que se necesitan\n",
    "    Args: df con los precios de las empresas, listado de empresas a evaluar en la optimización\n",
    "    Retorna un df con la info solamente de las empresas que se quieren'''\n",
    "    \n",
    "    conjunto_empresas_periodo = list(set(datos.columns) & set(empresas))\n",
    "    \n",
    "    return datos[conjunto_empresas_periodo]\n",
    "\n",
    "def suficiencia_de_datos(dataframe): \n",
    "    '''Permite verificar si, para el periodo seleccionado, la empresa cuanta con un cantidad de datos suficientes\n",
    "    Args: df que se quiere evaluar su cantidad de datos nulos\n",
    "    Retorna un df incluyendo solamente a aquellas empresas que superan el filtro aplicado'''\n",
    "   \n",
    "    porcentaje_nulos = pd.DataFrame({'porc_nulos': dataframe.isnull().sum() / len(dataframe)})\n",
    "    calificadas = list(porcentaje_nulos.loc[porcentaje_nulos['porc_nulos'] <= 0.25].index)\n",
    "    for empresa in calificadas: \n",
    "        if empresa == 'Date':\n",
    "            calificadas.remove('Date')\n",
    "    dataframe = dataframe[calificadas]\n",
    "\n",
    "    return dataframe\n",
    "\n",
    "def rellenado_valores_nulos(dataframe):\n",
    "    '''Permite rellenar los valores nulos, en base al promedio de los valores aledaños\n",
    "    Args: df que se quiere rellenar\n",
    "    Retorna el df con los valores nulos rellenados'''\n",
    "    \n",
    "    return dataframe.interpolate(limit_direction = 'both')\n",
    "\n",
    "def construccion_dataframe_analisis(dataframe, empresas, fch_inicio, fch_fin):\n",
    "    '''La funcion nos permite elaborar el df con los precios de las acciones que se usara para la optimización\n",
    "    Args: df con los precios de todas las empresas, lista con los tickers de las empresas que se van a analizar, fecha de inicio del analisis,\n",
    "    fecha de finalizacion del analisis\n",
    "    Retorna un df con todos los requermientos y tratamientos necesarias para usarse en la optimización'''\n",
    "    \n",
    "    tickers_empresas = seleccion_tickers(empresas, fch_inicio, fch_fin)\n",
    "    data_historica = ajuste_temporal_de_datos(dataframe, fch_inicio, fch_fin)\n",
    "    data_de_empresas = seleccion_de_empresas(data_historica, tickers_empresas)\n",
    "\n",
    "    return rellenado_valores_nulos(suficiencia_de_datos(data_de_empresas))\n",
    "\n",
    "def construccion_dataframe_evaluacion(dataframe, empresas, fecha_inicio, fecha_fin, fecha_finalizacion): \n",
    "    '''La funcion nos permite elaborar el df con los precios de las acciones que se usara para la evaluación\n",
    "    Args: df con los precios de todas las empresas, lista con los tickers de las empresas que se van a analizar, fecha de inicio del analisis,\n",
    "    fecha de finalizacion del analisis, fecha de finalización de la evaluación\n",
    "    Retorna un df con todos los requermientos y tratamientos necesarias para usarse en la evaluación'''\n",
    "    \n",
    "    tickers_empresas = seleccion_tickers(empresas, fecha_inicio, fecha_fin)\n",
    "    data_historica = ajuste_temporal_de_datos(dataframe, fecha_fin, fecha_finalizacion)\n",
    "    data_de_empresas = seleccion_de_empresas(data_historica, tickers_empresas)\n",
    "\n",
    "    return rellenado_valores_nulos(suficiencia_de_datos(data_de_empresas))\n",
    "\n",
    "\n",
    "def construccion_dataframe_bonos_analisis(bonos, fecha_inicio, fecha_fin): \n",
    "    '''La función permite seleccionar los datos del bono del tesoro con el vencimiento que matchea con la longitud del periodo de analisis\n",
    "    Args: df con los rendimientos de los bonos, fecha de inicio del analisis, fecha de finalización del análisis\n",
    "    Retorna una serie con los rendimeintos del bono a usarse para calcular el rendimiento de la risk free para el periodo de analisis'''\n",
    "    \n",
    "    año_com, mes_com, dia_com = separar_fecha(fecha_inicio)\n",
    "    año_fn, mes_fn, dia_fn = separar_fecha(fecha_fin)\n",
    "\n",
    "    plazo = año_fn - año_com\n",
    "\n",
    "    if plazo < 1: \n",
    "        bonos = bonos[['Date', 'US6M']]\n",
    "    elif plazo >= 1 and plazo < 2:\n",
    "        bonos = bonos[['Date', 'US1Y']]\n",
    "    elif plazo >= 2 and plazo < 3:\n",
    "        bonos = bonos[['Date', 'US2Y']]\n",
    "    elif plazo >= 3 and plazo < 5:\n",
    "        bonos = bonos[['Date', 'US3Y']]\n",
    "    elif plazo >= 5 and plazo < 7:\n",
    "        bonos = bonos[['Date', 'US5Y']]\n",
    "    elif plazo >= 7 and plazo < 10:\n",
    "        bonos = bonos[['Date', 'US7Y']]\n",
    "    elif plazo >= 10 and plazo < 20:\n",
    "        bonos = bonos[['Date', 'US10Y']]\n",
    "    elif plazo >= 20 and plazo < 30:\n",
    "        bonos = bonos[['Date', 'US20Y']]\n",
    "    else:\n",
    "        bonos = bonos[['Date', 'US30Y']]\n",
    "    \n",
    "    bonos_tesoro_analisis =  ajuste_temporal_de_datos(bonos, fecha_inicio, fecha_fin)\n",
    "    \n",
    "    return rellenado_valores_nulos(bonos_tesoro_analisis.drop(['Date'], axis = 1))\n",
    "\n",
    "def construccion_dataframe_bonos_evaluacion(bonos, fecha_fin, fecha_finalizacion): \n",
    "    '''La función permite seleccionar los datos del bono del tesoro con el vencimiento que matchea con la longitud del periodo de evaluación\n",
    "    Args: df con los rendimientos de los bonos, fecha de inicio de la evaluación, fecha de finalización de la evaluación\n",
    "    Retorna una serie con los rendimeintos del bono a usarse para calcular el rendimiento de la risk free para el periodo de evalaución'''\n",
    "    \n",
    "    año_com, mes_com, dia_com = separar_fecha(fecha_fin)\n",
    "    año_fn, mes_fn, dia_fn = separar_fecha(fecha_finalizacion)\n",
    "\n",
    "    plazo = año_fn - año_com\n",
    "\n",
    "    if plazo < 1: \n",
    "        bonos = bonos[['Date', 'US6M']]\n",
    "    elif plazo >= 1 and plazo < 2:\n",
    "        bonos = bonos[['Date', 'US1Y']]\n",
    "    elif plazo >= 2 and plazo < 3:\n",
    "        bonos = bonos[['Date', 'US2Y']]\n",
    "    elif plazo >= 3 and plazo < 5:\n",
    "        bonos = bonos[['Date', 'US3Y']]\n",
    "    elif plazo >= 5 and plazo < 7:\n",
    "        bonos = bonos[['Date', 'US5Y']]\n",
    "    elif plazo >= 7 and plazo < 10:\n",
    "        bonos = bonos[['Date', 'US7Y']]\n",
    "    elif plazo >= 10 and plazo < 20:\n",
    "        bonos = bonos[['Date', 'US10Y']]\n",
    "    elif plazo >= 20 and plazo < 30:\n",
    "        bonos = bonos[['Date', 'US20Y']]\n",
    "    else:\n",
    "        bonos = bonos[['Date', 'US30Y']]\n",
    "    \n",
    "    bonos_tesoro_evaluacion = ajuste_temporal_de_datos(bonos, fecha_fin, fecha_finalizacion)\n",
    "    \n",
    "    return rellenado_valores_nulos(bonos_tesoro_evaluacion.drop(['Date'], axis = 1))\n",
    "\n",
    "def construccion_dataframe_comparable(dataframe, start, finish): \n",
    "    '''La función construye, siguiendo la idea para los df de las acciones, el df con los valores del Dow Jones que se usará para comparar al portafolio óptimo\n",
    "    Args: df con los valores del Dow Jones, fehca de inicio de la evaluación, fecha de finalización de la evaluación\n",
    "    Retorna el df ajustado del DJ para la evaluación'''\n",
    "    return rellenado_valores_nulos(suficiencia_de_datos(ajuste_temporal_de_datos(dataframe, start, finish)))\n",
    "\n",
    "def dataframe_en_rendimientos(dataframe): \n",
    "    '''La función permite convertir aquellos df que presentan valores en precios, en rendimientos logarítmicos\n",
    "    Args: df con valores en precios\n",
    "    Retorna un df expresados sus valores en rendimientos logarítmicos'''\n",
    "    \n",
    "    return np.log(dataframe/dataframe.shift()).fillna(0) "
   ]
  },
  {
   "cell_type": "markdown",
   "id": "6a71a09a-b3fd-420d-a09e-886f55cd761b",
   "metadata": {},
   "source": [
    "### Combinatorias posibles"
   ]
  },
  {
   "cell_type": "markdown",
   "id": "38a4e5e0-434c-4839-829b-ca7460bc18e6",
   "metadata": {},
   "source": [
    "Esta función nos permite obtener todas las combinaciones de tickers posibles, para así saber todos los portafolios posibles"
   ]
  },
  {
   "cell_type": "code",
   "execution_count": 44,
   "id": "ec82ad89-af8b-4720-ae5c-b1a6fc2e3a7b",
   "metadata": {},
   "outputs": [],
   "source": [
    "def combinaciones_de_acciones(dataframe):\n",
    "    '''Esta función elabora todas las combinaciones posibles de acciones, dadas unas determinadas condiciones\n",
    "    Args: df con los precios de las acciones, cuyos columnas son los tickers de las empresas a usar para optimizar el portaoflio\n",
    "    Retorna una lista que incluye en formato de lista a todas las combinaciones posibles de tickers'''\n",
    "    \n",
    "    tickers_empresas = dataframe.columns\n",
    "    combinaciones_min = 4\n",
    "    combinaciones_max = 7\n",
    "    combinaciones = []\n",
    "    for i in range(combinaciones_min, combinaciones_max + 1): \n",
    "        for combinacion in list(itertools.combinations(tickers_empresas, i)):\n",
    "            combinaciones.append(list(combinacion))\n",
    "\n",
    "    return combinaciones"
   ]
  },
  {
   "cell_type": "markdown",
   "id": "e9e45239-40a3-4bf4-ad94-66b24ba48437",
   "metadata": {},
   "source": [
    "### Restricciones"
   ]
  },
  {
   "cell_type": "markdown",
   "id": "e94e21f8-5e53-497a-877b-6cdea7216c96",
   "metadata": {},
   "source": [
    "Esta función construye las restricciones propias de la optimización"
   ]
  },
  {
   "cell_type": "code",
   "execution_count": 45,
   "id": "f1e9845b-456e-431d-89d7-2dcb221cc4d6",
   "metadata": {},
   "outputs": [],
   "source": [
    "def restricciones_de_optimizacion(tickers): \n",
    "    '''Esta función construye las restricciones necesarias para que funcione la optimización\n",
    "    Args: lista con los tickers de las empresas que conforman EL portafolio\n",
    "    Retorna un array con ponderadores equitativos, una tupla con las restricciones de no negatividad y de que los ponderadores no sean mayores a uno,\n",
    "    y la restricción de igualdad para que la suma de los ponderadores no sea mayor a 1'''\n",
    "    \n",
    "    cantidad_de_empresas = len(tickers)\n",
    "    ponderadores_equitativos = np.array(cantidad_de_empresas * [1. / cantidad_de_empresas,])\n",
    "    bandas = tuple((0, 1) for x in range(cantidad_de_empresas)) \n",
    "    restriccion_opt = ({'type': 'eq', 'fun': lambda x:  np.sum(x) - 1}) \n",
    "\n",
    "    return ponderadores_equitativos, bandas, restriccion_opt"
   ]
  },
  {
   "cell_type": "markdown",
   "id": "eab201cd-78b4-4420-9f01-c56b79fcedb8",
   "metadata": {},
   "source": [
    "### Optimizacion"
   ]
  },
  {
   "cell_type": "markdown",
   "id": "f97cb99e-78ae-475e-86a2-78e282e64ae1",
   "metadata": {},
   "source": [
    "Estas funciones son las necesarias para poder contruir la función de optimización, y así obtener todos los portafolios óptimos; y, en consecuencia, obtener el portafolio óptimo de máximo Ratio de Sharpe"
   ]
  },
  {
   "cell_type": "code",
   "execution_count": 46,
   "id": "3767d0f1-996f-4e90-bb5f-bb0fb9776bf2",
   "metadata": {},
   "outputs": [],
   "source": [
    "def calculo_de_retorno(ponderadores, dataframe): \n",
    "    '''Calcula el retorno de una cartera de activos\n",
    "    Args: ponderadores de cada uno de los activos, df con los rendimientos históricos de cada activo\n",
    "    Retorna el rendimiento anualizado del portafolio'''\n",
    "    \n",
    "    return np.sum(dataframe.mean() * ponderadores) * 252\n",
    "\n",
    "def calculo_de_varianza(ponderadores, covarianzas): \n",
    "    '''Calcula la voltilidad de una cartera de activos\n",
    "    Args: ponderadores de cada uno de los activos, df con las varianzas y covarianzas de los activos\n",
    "    Retorna el desvío estándar anualizado del portafolio anualizado del portafolio'''\n",
    "    \n",
    "    return np.sqrt(np.dot(ponderadores.T, np.dot(covarianzas * 252, ponderadores)))\n",
    "\n",
    "def calculo_de_ratio_sharpe(ponderadores, df, RF, covas):\n",
    "    '''Calcula la inversa del ratio de sharpe\n",
    "    Args: ponderadores de los activos, df con los rendimientos de los activos, valor de la risk free, matriz de varianzas y covarianzas\n",
    "    Retorna el valor de la inversa del Ratio de Sharpe del portafolio anualizado'''\n",
    "    \n",
    "    return - (calculo_de_retorno(ponderadores, df) - RF) / calculo_de_varianza(ponderadores, covas)\n",
    "\n",
    "def ratio_sharpe_vector(dataframe, RF): \n",
    "    '''Calcula el valor del Ratio de Sharpe para UN solo activo o indice\n",
    "    Args: df con los rendimientos del activo, y valor de la risk free\n",
    "    Retonrna el valor del ratio de sharpe anualizado'''\n",
    "    \n",
    "    return (np.mean(dataframe) * 252 - RF) / (np.std(dataframe, ddof = 1) * np.sqrt(252))\n",
    "\n",
    "def optimizacion_ratio_sharpe(funcion, DF, Risk_F, vari_y_covari, equi_ponderadores, bandas, constriccion): \n",
    "    '''La función realiza la minimización de la inversa del ratio de sharpe, por ende su maximización\n",
    "    Args: función a minimizar, df con los rendmientos de las acciones, valor de la risk free, matriz de varianzas y covarianzas, ponderadores\n",
    "    con los que se comenzará la minimización, bandas que restringuen los valores de los ponderadores, y la restricción de suma de los ponderadores igual a 1\n",
    "    Retorna el valor de los ponderadores óptimos para el portafolio'''\n",
    "    \n",
    "    return sco.minimize(funcion, equi_ponderadores, args = (DF, Risk_F, vari_y_covari), method = 'SLSQP', bounds = bandas, constraints = constriccion)\n",
    "    \n",
    "def optimizacion(dataframe, libre_riesgo): \n",
    "    '''La función principal del programa. Esta calcula las ponderaciones óptimas para todos los portafolios posibles, así construidos por la función\n",
    "    combinatorias posibles\n",
    "    Args: df con los rendimientos de las acciones que pueden usarse para armar los portafolios, valor de la risk free\n",
    "    Retorna un df con las tickers, el valor del ratio de sharpe, ponderadores óptimos, retorno anualizado y desvío anaulizado, para cada uno de los\n",
    "    portafolios posibles, y los ordena de manera decreciente según su ratio de sharpe'''\n",
    "    \n",
    "    resultado = []\n",
    "    for combinacion in combinaciones_de_acciones(dataframe): \n",
    "        eponderadores, bndas, cnstrain = restricciones_de_optimizacion(combinacion)\n",
    "        datos = dataframe[combinacion].to_numpy()\n",
    "        matriz_de_cov = np.cov(datos.T)\n",
    "        \n",
    "        optimos = optimizacion_ratio_sharpe(calculo_de_ratio_sharpe, datos, libre_riesgo, matriz_de_cov, eponderadores, bndas, cnstrain)\n",
    "\n",
    "        varianza = calculo_de_varianza(optimos['x'], matriz_de_cov)\n",
    "        retorno = calculo_de_retorno(optimos['x'], datos)\n",
    "        \n",
    "        resultado.append([combinacion, (retorno - libre_riesgo) / varianza, optimos['x'], retorno, varianza])\n",
    "\n",
    "    return pd.DataFrame(resultado, columns=['Combinación', 'RatioSharpe', 'Ponderadores', 'Retorno', 'Varianza']).sort_values(by='RatioSharpe', ascending=False)"
   ]
  },
  {
   "cell_type": "markdown",
   "id": "fdd86ca6-f15a-4757-93b3-179259b95ae9",
   "metadata": {},
   "source": [
    "### Obtencion y muestra de resultados"
   ]
  },
  {
   "cell_type": "markdown",
   "id": "e5a33ae3-670e-43c4-bd58-f550ca901034",
   "metadata": {},
   "source": [
    "Estas funciones van a extraer del dataframe resultante de la optimziación, las características relevantes del portafolio óptimo de máximo ratio de sharpe, para posteriormente mostrarlos por pantalla."
   ]
  },
  {
   "cell_type": "code",
   "execution_count": 47,
   "id": "7bca19c7-a213-4540-82cd-f13b7ce02a6f",
   "metadata": {},
   "outputs": [],
   "source": [
    "def obtencion_de_resultados(dataframe): \n",
    "    '''Esta función, en base a los resultados obtenidos por la optimización de portafolio, permite obtener los resultados del portafolio óptimo\n",
    "    Args: df con los resultados para todos los portafolios posibles\n",
    "    Retorna del mejor portafolio escogido por ratio de shape las acciones que lo conforman y sus ponderadores, su retorno anualizado, su desvío estándar anualizado, su\n",
    "    ratio de sharpe, una lista con los tickers de las acciones, y una lista con lso valores de los ponderadores'''\n",
    "    \n",
    "    empresas = list(dataframe.iloc[0]['Combinación'])\n",
    "    ponderadores = dataframe.iloc[0]['Ponderadores']\n",
    "    # cartera, retorno, volatilidad, ratio_sharpe\n",
    "    return dict(zip(empresas, list(ponderadores))), dataframe.iloc[0]['Retorno'], dataframe.iloc[0]['Varianza'], dataframe.iloc[0]['RatioSharpe'], empresas, ponderadores\n",
    "\n",
    "def muestra_empresas_optimas(diccionario): \n",
    "    '''Esta función permite configurar la muesta por pantalla de los resultados del portafolio óptimo\n",
    "    Args: el diccionario con los tickers de las empresas del portafolio, junto a sus ponderadores\n",
    "    Retorna las posiciones donde van a colocarse cada ticker junto a su respectivo ponderador'''\n",
    "    \n",
    "    contador = 0\n",
    "    if len(diccionario) % 5 == 0:\n",
    "        columnas = 5\n",
    "    elif len(diccionario) % 4 == 0: \n",
    "        columnas = 4\n",
    "    else: \n",
    "        columnas = 3 \n",
    "    for empresa, porcentaje in diccionario.items():\n",
    "        print(f'{empresa}: {porcentaje.round(4)*100}%\\t', end = ' ')\n",
    "        contador += 1\n",
    "        if contador == columnas:\n",
    "            print()\n",
    "            contador = 0\n",
    "\n",
    "def muestra_de_resultados(cartera, retorno, volatilidad, ratio_sharpe): \n",
    "    '''La función muestra por pantala los resultados del portafolio óptimo\n",
    "    Args: la configuración de la cartera, su retorno, su desvío estándar, y su ratio de sharpe\n",
    "    Retorna un resumen visual de las características del portafolio óptimo'''\n",
    "    \n",
    "    print(\"\\t\\tPORTAFOLIO ÓPTIMO RESULTANTE\")\n",
    "    print(\"\\t\\t\"+\"-\" * len(\"PORTAFOLIO ÓPTIMO RESULTANTE\"))\n",
    "    print()\n",
    "    print(f'Retorno: {retorno.round(3) * 100}% \\t Volatilidad: {volatilidad.round(3) * 100}% \\tRatio Sharpe: {ratio_sharpe.round(3)}')\n",
    "    print()\n",
    "    print(\"\\t\\t\"+\"-\" * len(\"PORTAFOLIO ÓPTIMO RESULTANTE\"))\n",
    "    print()\n",
    "    muestra_empresas_optimas(cartera)\n",
    "\n",
    "def muestra_rs(rs_emp, rs_dj): \n",
    "    '''La función muestra lso valores de ratio de sharpe del portafolio y del indice para el periodo de evaluación\n",
    "    Args: ratio sharpe del portafolio, ratio sharpe del DoW Jones\n",
    "    Retorna por pantalla los dos valores, redondeados'''\n",
    "    \n",
    "    print(f'\\tEl ratio sharpe resultante del portafolio es de: {rs_emp.round(3)} puntos')\n",
    "    print(f'\\tEl ratio sharpe resultante del indice Dow Jones es de: {rs_dj.round(3)} puntos')"
   ]
  },
  {
   "cell_type": "code",
   "execution_count": 50,
   "id": "29768693-1e22-46dd-a1e9-02e2653e1372",
   "metadata": {},
   "outputs": [],
   "source": [
    "def data_graficos_portafolio(dataframe, df_porc, empresas, ponde): \n",
    "    '''La función construye los dfs del portafolio óptimo que se utilizarán para crear los gráficos\n",
    "    Args: df de los precios de las empresas del periodo ed evaluación, df de los rendimientos de las empresas del periodo de evaluación,\n",
    "    empresas del portafolio óptimo, ponderadores óptimos\n",
    "    Retorna los dfs para la construcción del gráfico de rendimientos acumulados y de volatilidad, respectivamente'''\n",
    "    \n",
    "    dataframe = dataframe[empresas]\n",
    "    df_porc = df_porc[empresas]\n",
    "    dataframe['Return'] = np.dot(dataframe, ponde)\n",
    "    dataframe['Return_PC'] = np.dot(df_porc, ponde)\n",
    "\n",
    "    return (dataframe['Return'] / dataframe['Return'].iloc[0] * 100), dataframe['Return_PC']\n",
    "\n",
    "def data_graficos_indice(dataframe, df_porc): \n",
    "    '''La función construye los dfs del índice que se utilizarán para crear los gráficos\n",
    "    Args: df de los valores del Dow Jones, y df con los rendimientos de este\n",
    "    Retorna los dfs para la construcción del gráfico de rendimientos acumulados y de volatilidad, respectivamente'''\n",
    "    \n",
    "    dataframe['Return_PC'] = df_porc['Adj Close']\n",
    "    \n",
    "    return (dataframe['Adj Close'] / dataframe['Adj Close'].iloc[0] * 100), dataframe['Return_PC']\n",
    "    \n",
    "def resultados_de_la_evaluacion(df_empresas, df_dow_jones, df_empresas_porc, df_dow_jones_porc, pond, riesgo_libre, inicio, fin):\n",
    "    '''Esta función obtiene los principales insights del programa, los cuales se mostrarán en los gráficos y por pantalla al finalizar este\n",
    "    Args: df de precios de empresas del portafolio óptimo, df de rendimientos de empresas del portafolio óptimo, df de valores del índice, df de \n",
    "    rendimientos del índice, ponderadores óptimos obtenidos, tasa libre de riesgo de la evaluación, fecha de inicio de la evaluación, fecha\n",
    "    de finalización de la evaluación\n",
    "    Retorna el rendimiento acumulado durante el periodo de evaluación por el portafolio óptimo, el rendimiento acumulado por el Dow Jones, el desvío\n",
    "    estándar anualizado del portafolio, el desvío estándar del índice, el ratio de sharpe para el periodo de valuación del portafolio, y el ratio de \n",
    "    sharpe del Dow Jones'''\n",
    "    \n",
    "    año_ini, mes_ini, dia_ini = separar_fecha(inicio)\n",
    "    año_fn, mes_fn, dia_fn = separar_fecha(fin)\n",
    "    \n",
    "    rend_acum_emp = list(df_empresas)[-1] - 100\n",
    "    rend_acum_dj = list(df_dow_jones)[-1] - 100\n",
    "    vol_emp = calculo_de_varianza(pond, np.cov(df_empresas_porc.to_numpy().T))\n",
    "    vol_dj = np.std(df_dow_jones_porc, ddof = 1) * np.sqrt(252)\n",
    "    rs_emp = ((np.log(list(df_empresas)[-1] / list(df_empresas)[0]) / (año_fn - año_ini)) - riesgo_libre) / vol_emp\n",
    "    rs_dj = ratio_sharpe_vector(df_dow_jones_porc, riesgo_libre)\n",
    "    \n",
    "    return rend_acum_emp, rend_acum_dj, vol_emp, vol_dj, rs_emp, rs_dj"
   ]
  },
  {
   "cell_type": "markdown",
   "id": "28d48fe2-3f72-4247-96a7-69afc70da97a",
   "metadata": {},
   "source": [
    "### Gráficos"
   ]
  },
  {
   "cell_type": "markdown",
   "id": "98736a86-da49-4c44-a005-ee59cce2ea41",
   "metadata": {},
   "source": [
    "Estas funciones son las que van a configurar los dataframes de la manera adecuada, para finalmente realizar los gráficos que permitirán comparar los rendimientos y performance del portafolio óptimo con el índice Dow Jones para los periodos de evaluación que sean requeridos por el usuario, y así concluir si la metodología usada es satisfactoria o no."
   ]
  },
  {
   "cell_type": "code",
   "execution_count": 51,
   "id": "c1dc155f-710d-404f-af55-5311ab0d48e7",
   "metadata": {},
   "outputs": [],
   "source": [
    "def indexacion_de_fechas(df_port_acum, df_dow_acum, df_port_porc, df_dow_porc, fecha_inicio, fecha_final): \n",
    "    '''Esta función acomoda el índice de los dfs a utilizar para hacer los gráficos\n",
    "    Args: df del rendimiento acumulado del portafolio, df del rendimiento acumulado por el índice, df de los rendimientos logarítmicos del\n",
    "    portafolio, df de los rendimientos logarítmicos del índice, fecha de inicio de la evaluación, fecha de finalización de la evaluación\n",
    "    Retorna los 4 dfs dados como argumentos, pero con sus respectivos indices acomodados para que coincidan con el periodo de evaluación y\n",
    "    queden adecuadamente en los gráficos'''\n",
    "    \n",
    "    rango_de_datos = pd.date_range(start = fecha_inicio, end = fecha_final, periods = len(df_port_acum)).normalize()\n",
    "    df_port_acum.index = rango_de_datos\n",
    "    df_dow_acum.index = rango_de_datos\n",
    "    df_port_porc.index = rango_de_datos\n",
    "    df_dow_porc.index = rango_de_datos\n",
    "    \n",
    "    return df_port_acum, df_dow_acum, df_port_porc, df_dow_porc\n",
    "\n",
    "def xticks_graficos_volatilidad(ax, df_graficos, cantidad_ticks): \n",
    "    '''La función ajusta los ticks en los ejes de abscisas de los gráficos de volatilidad\n",
    "    Args: gráfico a corregir, df usado para elaborar el gráfico, cantidad de ticks que se quiere tener en el eje X\n",
    "    Retorna los ticks que irán en el eje X'''\n",
    "    \n",
    "    ticks = np.linspace(0, len(df_graficos.index) - 1, cantidad_ticks, dtype = int)\n",
    "    ticks_acomodados = df_graficos.index[ticks]\n",
    "    ax.set_xticks(ticks_acomodados)\n",
    "    ax.set_xticklabels(ticks_acomodados.strftime('%Y-%m'))"
   ]
  },
  {
   "cell_type": "code",
   "execution_count": 52,
   "id": "4ffb3320-e4fd-455b-9f16-1ea5583d5546",
   "metadata": {},
   "outputs": [],
   "source": [
    "def graficos_de_evaluacion(rend_pf, rend_dj, vol_pf, vol_dj, rend_pf_fn, rend_dj_fn, vol_pf_fin, vol_dj_fn): \n",
    "    '''Esta función es la que crea y configura los gráficos donde se mostrarán los datos relevantes para poder comparar la performance del\n",
    "    portafolio con la del índice\n",
    "    Args: df del rendimiento acumulado del portafolio, df del rendimiento acumulado del índice, df de los rendimientos logarítmicos del portafolio,\n",
    "    df de los rendimientos logarítmicos del índice, valor del rendimiento acumulado del portafolio, valor del rendimiento acumulado del índice,\n",
    "    valor de los desvío estándar del portafolio, valor del desvío estándar del índice'''\n",
    "    \n",
    "    fig = plt.figure(figsize=(12, 8), facecolor='lightsteelblue')\n",
    "    \n",
    "    ax1 = plt.subplot2grid((2, 2), (0, 0))\n",
    "    ax1.plot(vol_pf, label='Portafolio Optimizado', color='skyblue', linewidth = 1)\n",
    "    ax1.set_title('Volatilidad Portafolio', fontsize = 18, color = 'black')\n",
    "    ax1.set_ylabel('Rendimientos %', color = 'black')\n",
    "    ax1.legend()\n",
    "    ax1.tick_params(axis = 'x', colors = 'black')\n",
    "    ax1.tick_params(axis = 'y', colors = 'black')  \n",
    "    ax1.text(0.5, -0.1, f'Portafolio: {round(vol_pf_fin, 3)}', ha = 'center', va = 'top', transform = ax1.transAxes, color='black', fontsize = 12)\n",
    "    ax1.set_facecolor('lightcyan')\n",
    "    xticks_graficos_volatilidad(ax1, vol_pf, 8)\n",
    "    \n",
    "    ax2 = plt.subplot2grid((2, 2), (0, 1))\n",
    "    ax2.plot(vol_dj, label='Dow Jones', color='grey', linewidth = 1)\n",
    "    ax2.set_title('Volatilidad Dow Jones', fontsize = 18, color = 'black')\n",
    "    ax2.set_ylabel('Rendimientos %', color = 'black')\n",
    "    ax2.legend()\n",
    "    ax2.tick_params(axis = 'x', colors = 'black')    \n",
    "    ax2.tick_params(axis = 'y', colors = 'black')  \n",
    "    ax2.text(0.5, -0.1, f'Dow Jones: {round(vol_dj_fn, 3)}', ha = 'center', va = 'top', transform = ax2.transAxes, color='black', fontsize = 12)\n",
    "    ax2.set_facecolor('lightcyan')\n",
    "    xticks_graficos_volatilidad(ax2, vol_dj, 8)\n",
    "\n",
    "    ax3 = plt.subplot2grid((2, 2), (1, 0), rowspan = 1, colspan = 2)\n",
    "    ax3.plot(rend_pf, label='Portafolio Optimizado', color='skyblue', linewidth=1.5)\n",
    "    ax3.plot(rend_dj, label='Dow Jones', color='grey', linewidth=2)\n",
    "    ax3.set_title('RENTABILIDAD', fontsize=18, color='black')\n",
    "    ax3.set_ylabel('Rentabilidad Acumulada', color='black')\n",
    "    ax3.legend()\n",
    "    ax3.tick_params(axis='x', colors='black')    \n",
    "    ax3.tick_params(axis='y', colors='black')  \n",
    "    ax3.text(0.5, -0.1, f'Portafolio: {round(rend_pf_fn, 2)}% | Dow Jones: {round(rend_dj_fn, 2)}%', \n",
    "             ha='center', va='top', transform = ax3.transAxes, color='black', fontsize = 14)\n",
    "    ax3.set_facecolor('lightcyan')\n",
    "    \n",
    "    fig.tight_layout()\n",
    "    plt.show()"
   ]
  },
  {
   "cell_type": "markdown",
   "id": "ccb024ed-b8d6-4fc4-8256-43696e657c08",
   "metadata": {},
   "source": [
    "## PROGRAMA"
   ]
  },
  {
   "cell_type": "markdown",
   "id": "527716c2-8228-4bdc-ad9a-c9fc6318ebfb",
   "metadata": {},
   "source": [
    "Finalmente, se hará uso de todos los datos y funciones elaboradas anteriormente, para poder obtener los resultados deseados para extraer conclusiones, y así validar o no la hipótesis del trabajo."
   ]
  },
  {
   "cell_type": "code",
   "execution_count": 53,
   "id": "f641c289-a6f8-43e4-84b3-26f5afbea71e",
   "metadata": {},
   "outputs": [
    {
     "name": "stdin",
     "output_type": "stream",
     "text": [
      "Ingrese el año de comienzo del análisis:  1991\n",
      "Ingrese el mes correspondiente:  1\n",
      "Ingrese el dia correspondiente:  1\n",
      "Ingrese el año de finalización del análisis:  1995\n",
      "Ingrese el mes correspondiente:  12\n",
      "Ingrese el dia correspondiente:  31\n",
      "Ingrese el año de finalización de la evaluación:  2000\n",
      "Ingrese el mes correspondiente:  12\n",
      "Ingrese el dia correspondiente:  31\n"
     ]
    }
   ],
   "source": [
    "#Se obtiene la información del índice, acciones y bonos\n",
    "indice_dow_jones, datos_de_empresas, datos_de_bonos = importador() \n",
    "#Se obtiene el diccionario con los listados de empresas\n",
    "listado_de_empresas_por_año = importador_diccionario_empresas() \n",
    "#Se calcula la restricción al espacio temporal para seleccionar los periodos\n",
    "lim_inicio_general, lim_final_general = restriccion_temporal(datos_de_empresas, indice_dow_jones) \n",
    "#Se pide por teclado los límites para el periodo de análisis\n",
    "lim_inicial_analisis, lim_final_analisis = periodo_de_analisis(lim_inicio_general, lim_final_general)\n",
    "#Se pide por teclado los límites para el periodo de evaluación\n",
    "lim_inicial_evaluacion, lim_final_evaluacion = periodo_evaluacion(lim_final_analisis, lim_final_general)"
   ]
  },
  {
   "cell_type": "code",
   "execution_count": 54,
   "id": "4b363056-7da9-4f5c-a785-08d4bac51899",
   "metadata": {},
   "outputs": [],
   "source": [
    "#Se elaboran el dataframe para el periodo de análisis y para la optimización\n",
    "acciones_analisis = construccion_dataframe_analisis(datos_de_empresas, listado_de_empresas_por_año, lim_inicial_analisis, lim_final_analisis)\n",
    "#Se obtiene el valor de la risk free\n",
    "bonos_analisis = construccion_dataframe_bonos_analisis(datos_de_bonos, lim_inicial_analisis, lim_final_analisis)\n",
    "risk_free_analisis = np.mean(bonos_analisis)\n",
    "#Se elaboran los dataframes para el periodo de evaluación\n",
    "acciones_evaluacion = construccion_dataframe_evaluacion(datos_de_empresas, listado_de_empresas_por_año, lim_inicial_analisis, lim_final_analisis, lim_final_evaluacion)\n",
    "dow_jones_evaluacion = construccion_dataframe_comparable(indice_dow_jones, lim_final_analisis, lim_final_evaluacion)\n",
    "#Se obtiene el valor de la risk free para el periodo de evaluación\n",
    "bonos_evaluacion = construccion_dataframe_bonos_evaluacion(datos_de_bonos, lim_final_analisis, lim_final_evaluacion) \n",
    "risk_free_evaluacion = np.mean(bonos_evaluacion)\n",
    "#Se elabora el dataframe de los rendimientos logarítmicos de las acciones para la optimización\n",
    "acciones_analisis_porc = dataframe_en_rendimientos(acciones_analisis)\n",
    "#Se elaboran los dataframes de los rendimientos logarítmicos para el periodo de evaluación\n",
    "acciones_evaluacion_porc = dataframe_en_rendimientos(acciones_evaluacion)\n",
    "dow_jones_evaluacion_porc = dataframe_en_rendimientos(dow_jones_evaluacion)"
   ]
  },
  {
   "cell_type": "code",
   "execution_count": 31,
   "id": "0c7e3eb1-ba66-4f5a-84d0-39ac5ec20419",
   "metadata": {},
   "outputs": [
    {
     "data": {
      "text/plain": [
       "18"
      ]
     },
     "execution_count": 31,
     "metadata": {},
     "output_type": "execute_result"
    }
   ],
   "source": [
    "#Se muestran cuantas acciones van a usarse para la conformación de los portafolios\n",
    "len(acciones_analisis_porc.columns)"
   ]
  },
  {
   "cell_type": "code",
   "execution_count": 32,
   "id": "3ab688b5-8edf-443b-bf89-6d217026bc93",
   "metadata": {},
   "outputs": [
    {
     "data": {
      "text/plain": [
       "62016"
      ]
     },
     "execution_count": 32,
     "metadata": {},
     "output_type": "execute_result"
    }
   ],
   "source": [
    "#Se muestra la cantidad de portafolios a optimizar\n",
    "len(combinaciones_de_acciones(acciones_analisis_porc))"
   ]
  },
  {
   "cell_type": "code",
   "execution_count": 33,
   "id": "9a059ddb-7aa9-4a66-a66b-ae2b25206310",
   "metadata": {},
   "outputs": [
    {
     "name": "stdout",
     "output_type": "stream",
     "text": [
      "CPU times: total: 5min\n",
      "Wall time: 5min 39s\n"
     ]
    }
   ],
   "source": [
    "%%time\n",
    "#Se emplea la función para optimizar todos los portafolios posibles, y obtener cuál es el de mayor ratio sharpe\n",
    "portafolios_optimizados = optimizacion(acciones_analisis_porc, risk_free_analisis)"
   ]
  },
  {
   "cell_type": "markdown",
   "id": "2c44638a-46de-4082-bcaa-2479c4c6d450",
   "metadata": {},
   "source": [
    "Con 3003 iteraciones, pasamos de 3min y 20 seg, a 1min y 48 seg, 1min y 38 seg, a 10 segundos"
   ]
  },
  {
   "cell_type": "code",
   "execution_count": 34,
   "id": "01d29da9-970a-4f11-9990-4bac9edc4b4a",
   "metadata": {},
   "outputs": [
    {
     "data": {
      "text/html": [
       "<div>\n",
       "<style scoped>\n",
       "    .dataframe tbody tr th:only-of-type {\n",
       "        vertical-align: middle;\n",
       "    }\n",
       "\n",
       "    .dataframe tbody tr th {\n",
       "        vertical-align: top;\n",
       "    }\n",
       "\n",
       "    .dataframe thead th {\n",
       "        text-align: right;\n",
       "    }\n",
       "</style>\n",
       "<table border=\"1\" class=\"dataframe\">\n",
       "  <thead>\n",
       "    <tr style=\"text-align: right;\">\n",
       "      <th></th>\n",
       "      <th>Combinación</th>\n",
       "      <th>RatioSharpe</th>\n",
       "      <th>Ponderadores</th>\n",
       "      <th>Retorno</th>\n",
       "      <th>Varianza</th>\n",
       "    </tr>\n",
       "  </thead>\n",
       "  <tbody>\n",
       "    <tr>\n",
       "      <th>27804</th>\n",
       "      <td>[GE, HON, MCD, GT, XOM, KO]</td>\n",
       "      <td>1.433230</td>\n",
       "      <td>[0.17887696172247125, 0.09656151324755384, 0.1...</td>\n",
       "      <td>0.240702</td>\n",
       "      <td>0.123040</td>\n",
       "    </tr>\n",
       "    <tr>\n",
       "      <th>10956</th>\n",
       "      <td>[HON, MCD, GT, XOM, KO]</td>\n",
       "      <td>1.431448</td>\n",
       "      <td>[0.1229651820264164, 0.14053848905596536, 0.11...</td>\n",
       "      <td>0.245865</td>\n",
       "      <td>0.126800</td>\n",
       "    </tr>\n",
       "    <tr>\n",
       "      <th>59587</th>\n",
       "      <td>[GE, HON, MCD, GT, XOM, KO, MRK]</td>\n",
       "      <td>1.421630</td>\n",
       "      <td>[0.14540047501908773, 0.09149202861399708, 0.1...</td>\n",
       "      <td>0.234330</td>\n",
       "      <td>0.119562</td>\n",
       "    </tr>\n",
       "    <tr>\n",
       "      <th>29479</th>\n",
       "      <td>[HON, MCD, GT, XOM, KO, MRK]</td>\n",
       "      <td>1.419287</td>\n",
       "      <td>[0.11116286768945108, 0.12251577679535705, 0.0...</td>\n",
       "      <td>0.237571</td>\n",
       "      <td>0.122042</td>\n",
       "    </tr>\n",
       "    <tr>\n",
       "      <th>9927</th>\n",
       "      <td>[GE, HON, GT, XOM, KO]</td>\n",
       "      <td>1.412395</td>\n",
       "      <td>[0.20672309010422446, 0.11264666066458162, 0.1...</td>\n",
       "      <td>0.241305</td>\n",
       "      <td>0.125282</td>\n",
       "    </tr>\n",
       "  </tbody>\n",
       "</table>\n",
       "</div>"
      ],
      "text/plain": [
       "                            Combinación  RatioSharpe  \\\n",
       "27804       [GE, HON, MCD, GT, XOM, KO]     1.433230   \n",
       "10956           [HON, MCD, GT, XOM, KO]     1.431448   \n",
       "59587  [GE, HON, MCD, GT, XOM, KO, MRK]     1.421630   \n",
       "29479      [HON, MCD, GT, XOM, KO, MRK]     1.419287   \n",
       "9927             [GE, HON, GT, XOM, KO]     1.412395   \n",
       "\n",
       "                                            Ponderadores   Retorno  Varianza  \n",
       "27804  [0.17887696172247125, 0.09656151324755384, 0.1...  0.240702  0.123040  \n",
       "10956  [0.1229651820264164, 0.14053848905596536, 0.11...  0.245865  0.126800  \n",
       "59587  [0.14540047501908773, 0.09149202861399708, 0.1...  0.234330  0.119562  \n",
       "29479  [0.11116286768945108, 0.12251577679535705, 0.0...  0.237571  0.122042  \n",
       "9927   [0.20672309010422446, 0.11264666066458162, 0.1...  0.241305  0.125282  "
      ]
     },
     "execution_count": 34,
     "metadata": {},
     "output_type": "execute_result"
    }
   ],
   "source": [
    "#Se muestran los 5 portafolios con mayor ratio sharpe, dadas todas las restricciones y parámetros fijados\n",
    "portafolios_optimizados.head(5)"
   ]
  },
  {
   "cell_type": "code",
   "execution_count": 35,
   "id": "f8e5d024-4a46-4966-9357-2667cc804b28",
   "metadata": {},
   "outputs": [
    {
     "name": "stdout",
     "output_type": "stream",
     "text": [
      "\t\tPORTAFOLIO ÓPTIMO RESULTANTE\n",
      "\t\t----------------------------\n",
      "\n",
      "Retorno: 24.099999999999998% \t Volatilidad: 12.3% \tRatio Sharpe: 1.433\n",
      "\n",
      "\t\t----------------------------\n",
      "\n",
      "GE: 17.89%\t HON: 9.66%\t MCD: 11.1%\t \n",
      "GT: 9.33%\t XOM: 41.06%\t KO: 10.96%\t \n"
     ]
    }
   ],
   "source": [
    "#Se obtienen las características del portafolio óptimo en base al ratio sharpe\n",
    "car, ret, vola, rp, combinacion, weights = obtencion_de_resultados(portafolios_optimizados)\n",
    "#Se muestran por pantalla las características del portafolio de mayor ratio sharpe\n",
    "muestra_de_resultados(car, ret, vola, rp)"
   ]
  },
  {
   "cell_type": "code",
   "execution_count": 36,
   "id": "a2847789-8d7d-4ae3-9397-ba5a10a6d4a2",
   "metadata": {},
   "outputs": [],
   "source": [
    "#Se elaboran los dataframes necesarios para la construcción de los gráficos del portafolio óptimo\n",
    "data_graf_retorno, data_graf_volat = data_graficos_portafolio(acciones_evaluacion, acciones_evaluacion_porc, combinacion, weights)\n",
    "#Se elaboran los dataframes necesarios para la construcción de los gráficos del benchmark\n",
    "dj_graf_retorno, dj_graf_volat = data_graficos_indice(dow_jones_evaluacion, dow_jones_evaluacion_porc)\n",
    "#Se obtienen los insights buscados para comparar la performance del portafolio con la del Dow Jones\n",
    "rend_acu_portafolio, rend_acu_dow, volat_portafolio, volat_dow, rs_portafolio, rs_dow = resultados_de_la_evaluacion(data_graf_retorno, dj_graf_retorno, acciones_evaluacion_porc[combinacion], dow_jones_evaluacion_porc, weights, risk_free_evaluacion, lim_inicial_evaluacion, lim_final_evaluacion)\n",
    "#Se acomodan los índices de los dataframes a utilizar para hacer los gráficos\n",
    "data_graf_retorno, dj_graf_retorno, data_graf_volat, dj_graf_volat = indexacion_de_fechas(data_graf_retorno, dj_graf_retorno, data_graf_volat, dj_graf_volat, lim_inicial_evaluacion, lim_final_evaluacion)"
   ]
  },
  {
   "cell_type": "code",
   "execution_count": 37,
   "id": "2728ab2d-9478-408a-8321-d0e6953e4947",
   "metadata": {},
   "outputs": [
    {
     "data": {
      "image/png": "[encoded data removed]",
      "text/plain": [
       "<Figure size 1200x800 with 3 Axes>"
      ]
     },
     "metadata": {},
     "output_type": "display_data"
    }
   ],
   "source": [
    "#Se muestran los gráficos que permiten realizar una parte de las comparaciones objetivo de este programa\n",
    "graficos_de_evaluacion(data_graf_retorno, dj_graf_retorno, data_graf_volat, dj_graf_volat, rend_acu_portafolio, rend_acu_dow, volat_portafolio, volat_dow.iloc[0])"
   ]
  },
  {
   "cell_type": "code",
   "execution_count": 38,
   "id": "24c38dc4-76b8-4ac6-89a2-d139c48e9204",
   "metadata": {},
   "outputs": [
    {
     "name": "stdout",
     "output_type": "stream",
     "text": [
      "\tEl ratio sharpe resultante del portafolio es de: 0.647 puntos\n",
      "\tEl ratio sharpe resultante del indice Dow Jones es de: 0.495 puntos\n"
     ]
    }
   ],
   "source": [
    "#Se muestran por pantalla los valores de los ratios de sharpe para el portafolio y para el Dow Jones, respectivamente\n",
    "muestra_rs(rs_portafolio, rs_dow.iloc[0])"
   ]
  },
  {
   "cell_type": "code",
   "execution_count": null,
   "id": "97e0e6dd-62a6-4327-a280-a8eeb278cc0e",
   "metadata": {},
   "outputs": [],
   "source": []
  }
 ],
 "metadata": {
  "kernelspec": {
   "display_name": "Python 3 (ipykernel)",
   "language": "python",
   "name": "python3"
  },
  "language_info": {
   "codemirror_mode": {
    "name": "ipython",
    "version": 3
   },
   "file_extension": ".py",
   "mimetype": "text/x-python",
   "name": "python",
   "nbconvert_exporter": "python",
   "pygments_lexer": "ipython3",
   "version": "3.12.3"
  }
 },
 "nbformat": 4,
 "nbformat_minor": 5
}
